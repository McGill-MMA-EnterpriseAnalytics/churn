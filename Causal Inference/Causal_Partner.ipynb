{
  "nbformat": 4,
  "nbformat_minor": 0,
  "metadata": {
    "colab": {
      "name": "Causal Partner ",
      "provenance": []
    },
    "kernelspec": {
      "name": "python3",
      "display_name": "Python 3"
    }
  },
  "cells": [
    {
      "cell_type": "code",
      "metadata": {
        "id": "IiW8V3Mj2jQd",
        "colab_type": "code",
        "outputId": "adf1990a-65a6-4ac7-ec0a-b9591d897840",
        "colab": {
          "base_uri": "https://localhost:8080/",
          "height": 1000
        }
      },
      "source": [
        "!pip install dowhy\n",
        "import numpy as np\n",
        "import pandas as pd\n",
        "import dowhy\n",
        "from dowhy import CausalModel\n",
        "import dowhy.datasets\n",
        "import dowhy.api"
      ],
      "execution_count": 1,
      "outputs": [
        {
          "output_type": "stream",
          "text": [
            "Collecting dowhy\n",
            "\u001b[?25l  Downloading https://files.pythonhosted.org/packages/58/a9/a1d1a173d6b44a4c61656c102729da1d4408d972085dda48ed0517eb13b7/dowhy-0.2-py3-none-any.whl (64kB)\n",
            "\r\u001b[K     |█████                           | 10kB 17.7MB/s eta 0:00:01\r\u001b[K     |██████████▏                     | 20kB 2.3MB/s eta 0:00:01\r\u001b[K     |███████████████▏                | 30kB 3.0MB/s eta 0:00:01\r\u001b[K     |████████████████████▎           | 40kB 2.1MB/s eta 0:00:01\r\u001b[K     |█████████████████████████▍      | 51kB 2.4MB/s eta 0:00:01\r\u001b[K     |██████████████████████████████▍ | 61kB 2.8MB/s eta 0:00:01\r\u001b[K     |████████████████████████████████| 71kB 2.5MB/s \n",
            "\u001b[?25hRequirement already satisfied: numpy>=1.15 in /usr/local/lib/python3.6/dist-packages (from dowhy) (1.17.5)\n",
            "Requirement already satisfied: networkx>=2.0 in /usr/local/lib/python3.6/dist-packages (from dowhy) (2.4)\n",
            "Requirement already satisfied: pandas>=0.24 in /usr/local/lib/python3.6/dist-packages (from dowhy) (0.25.3)\n",
            "Requirement already satisfied: matplotlib in /usr/local/lib/python3.6/dist-packages (from dowhy) (3.1.3)\n",
            "Collecting econml>=0.5\n",
            "\u001b[?25l  Downloading https://files.pythonhosted.org/packages/90/4f/dd76f7be30ec7294b1cfd46b5622b64c29bcdd6a1709205826eb14176c52/econml-0.6.1-py3-none-any.whl (278kB)\n",
            "\u001b[K     |████████████████████████████████| 286kB 9.5MB/s \n",
            "\u001b[?25hRequirement already satisfied: statsmodels in /usr/local/lib/python3.6/dist-packages (from dowhy) (0.10.2)\n",
            "Collecting pydot>=1.4\n",
            "  Downloading https://files.pythonhosted.org/packages/33/d1/b1479a770f66d962f545c2101630ce1d5592d90cb4f083d38862e93d16d2/pydot-1.4.1-py2.py3-none-any.whl\n",
            "Collecting sympy>=1.4\n",
            "\u001b[?25l  Downloading https://files.pythonhosted.org/packages/ce/5b/acc12e3c0d0be685601fc2b2d20ed18dc0bf461380e763afc9d0a548deb0/sympy-1.5.1-py2.py3-none-any.whl (5.6MB)\n",
            "\u001b[K     |████████████████████████████████| 5.6MB 34.5MB/s \n",
            "\u001b[?25hRequirement already satisfied: scipy in /usr/local/lib/python3.6/dist-packages (from dowhy) (1.4.1)\n",
            "Requirement already satisfied: scikit-learn in /usr/local/lib/python3.6/dist-packages (from dowhy) (0.22.1)\n",
            "Requirement already satisfied: decorator>=4.3.0 in /usr/local/lib/python3.6/dist-packages (from networkx>=2.0->dowhy) (4.4.1)\n",
            "Requirement already satisfied: python-dateutil>=2.6.1 in /usr/local/lib/python3.6/dist-packages (from pandas>=0.24->dowhy) (2.6.1)\n",
            "Requirement already satisfied: pytz>=2017.2 in /usr/local/lib/python3.6/dist-packages (from pandas>=0.24->dowhy) (2018.9)\n",
            "Requirement already satisfied: cycler>=0.10 in /usr/local/lib/python3.6/dist-packages (from matplotlib->dowhy) (0.10.0)\n",
            "Requirement already satisfied: pyparsing!=2.0.4,!=2.1.2,!=2.1.6,>=2.0.1 in /usr/local/lib/python3.6/dist-packages (from matplotlib->dowhy) (2.4.6)\n",
            "Requirement already satisfied: kiwisolver>=1.0.1 in /usr/local/lib/python3.6/dist-packages (from matplotlib->dowhy) (1.1.0)\n",
            "Requirement already satisfied: tensorflow==1.* in /usr/local/lib/python3.6/dist-packages (from econml>=0.5->dowhy) (1.15.0)\n",
            "Collecting sparse\n",
            "\u001b[?25l  Downloading https://files.pythonhosted.org/packages/08/73/34946ead922c072d7981be5b917f5871961a1b3bab4bc43dcd861de9ac23/sparse-0.9.1-py2.py3-none-any.whl (63kB)\n",
            "\u001b[K     |████████████████████████████████| 71kB 9.0MB/s \n",
            "\u001b[?25hRequirement already satisfied: numba!=0.42.1 in /usr/local/lib/python3.6/dist-packages (from econml>=0.5->dowhy) (0.47.0)\n",
            "Requirement already satisfied: joblib>=0.13.0 in /usr/local/lib/python3.6/dist-packages (from econml>=0.5->dowhy) (0.14.1)\n",
            "Requirement already satisfied: graphviz in /usr/local/lib/python3.6/dist-packages (from econml>=0.5->dowhy) (0.10.1)\n",
            "Requirement already satisfied: keras in /usr/local/lib/python3.6/dist-packages (from econml>=0.5->dowhy) (2.2.5)\n",
            "Requirement already satisfied: patsy>=0.4.0 in /usr/local/lib/python3.6/dist-packages (from statsmodels->dowhy) (0.5.1)\n",
            "Requirement already satisfied: mpmath>=0.19 in /usr/local/lib/python3.6/dist-packages (from sympy>=1.4->dowhy) (1.1.0)\n",
            "Requirement already satisfied: six>=1.5 in /usr/local/lib/python3.6/dist-packages (from python-dateutil>=2.6.1->pandas>=0.24->dowhy) (1.12.0)\n",
            "Requirement already satisfied: setuptools in /usr/local/lib/python3.6/dist-packages (from kiwisolver>=1.0.1->matplotlib->dowhy) (45.1.0)\n",
            "Requirement already satisfied: keras-preprocessing>=1.0.5 in /usr/local/lib/python3.6/dist-packages (from tensorflow==1.*->econml>=0.5->dowhy) (1.1.0)\n",
            "Requirement already satisfied: tensorboard<1.16.0,>=1.15.0 in /usr/local/lib/python3.6/dist-packages (from tensorflow==1.*->econml>=0.5->dowhy) (1.15.0)\n",
            "Requirement already satisfied: termcolor>=1.1.0 in /usr/local/lib/python3.6/dist-packages (from tensorflow==1.*->econml>=0.5->dowhy) (1.1.0)\n",
            "Requirement already satisfied: grpcio>=1.8.6 in /usr/local/lib/python3.6/dist-packages (from tensorflow==1.*->econml>=0.5->dowhy) (1.27.1)\n",
            "Requirement already satisfied: tensorflow-estimator==1.15.1 in /usr/local/lib/python3.6/dist-packages (from tensorflow==1.*->econml>=0.5->dowhy) (1.15.1)\n",
            "Requirement already satisfied: opt-einsum>=2.3.2 in /usr/local/lib/python3.6/dist-packages (from tensorflow==1.*->econml>=0.5->dowhy) (3.1.0)\n",
            "Requirement already satisfied: gast==0.2.2 in /usr/local/lib/python3.6/dist-packages (from tensorflow==1.*->econml>=0.5->dowhy) (0.2.2)\n",
            "Requirement already satisfied: google-pasta>=0.1.6 in /usr/local/lib/python3.6/dist-packages (from tensorflow==1.*->econml>=0.5->dowhy) (0.1.8)\n",
            "Requirement already satisfied: wheel>=0.26 in /usr/local/lib/python3.6/dist-packages (from tensorflow==1.*->econml>=0.5->dowhy) (0.34.2)\n",
            "Requirement already satisfied: wrapt>=1.11.1 in /usr/local/lib/python3.6/dist-packages (from tensorflow==1.*->econml>=0.5->dowhy) (1.11.2)\n",
            "Requirement already satisfied: astor>=0.6.0 in /usr/local/lib/python3.6/dist-packages (from tensorflow==1.*->econml>=0.5->dowhy) (0.8.1)\n",
            "Requirement already satisfied: keras-applications>=1.0.8 in /usr/local/lib/python3.6/dist-packages (from tensorflow==1.*->econml>=0.5->dowhy) (1.0.8)\n",
            "Requirement already satisfied: absl-py>=0.7.0 in /usr/local/lib/python3.6/dist-packages (from tensorflow==1.*->econml>=0.5->dowhy) (0.9.0)\n",
            "Requirement already satisfied: protobuf>=3.6.1 in /usr/local/lib/python3.6/dist-packages (from tensorflow==1.*->econml>=0.5->dowhy) (3.10.0)\n",
            "Requirement already satisfied: llvmlite>=0.31.0dev0 in /usr/local/lib/python3.6/dist-packages (from numba!=0.42.1->econml>=0.5->dowhy) (0.31.0)\n",
            "Requirement already satisfied: h5py in /usr/local/lib/python3.6/dist-packages (from keras->econml>=0.5->dowhy) (2.8.0)\n",
            "Requirement already satisfied: pyyaml in /usr/local/lib/python3.6/dist-packages (from keras->econml>=0.5->dowhy) (3.13)\n",
            "Requirement already satisfied: werkzeug>=0.11.15 in /usr/local/lib/python3.6/dist-packages (from tensorboard<1.16.0,>=1.15.0->tensorflow==1.*->econml>=0.5->dowhy) (1.0.0)\n",
            "Requirement already satisfied: markdown>=2.6.8 in /usr/local/lib/python3.6/dist-packages (from tensorboard<1.16.0,>=1.15.0->tensorflow==1.*->econml>=0.5->dowhy) (3.2.1)\n",
            "\u001b[31mERROR: econml 0.6.1 has requirement matplotlib<3.1, but you'll have matplotlib 3.1.3 which is incompatible.\u001b[0m\n",
            "\u001b[31mERROR: econml 0.6.1 has requirement scikit-learn~=0.21.0, but you'll have scikit-learn 0.22.1 which is incompatible.\u001b[0m\n",
            "Installing collected packages: sparse, econml, pydot, sympy, dowhy\n",
            "  Found existing installation: pydot 1.3.0\n",
            "    Uninstalling pydot-1.3.0:\n",
            "      Successfully uninstalled pydot-1.3.0\n",
            "  Found existing installation: sympy 1.1.1\n",
            "    Uninstalling sympy-1.1.1:\n",
            "      Successfully uninstalled sympy-1.1.1\n",
            "Successfully installed dowhy-0.2 econml-0.6.1 pydot-1.4.1 sparse-0.9.1 sympy-1.5.1\n"
          ],
          "name": "stdout"
        }
      ]
    },
    {
      "cell_type": "code",
      "metadata": {
        "id": "E-SDik3k2ojd",
        "colab_type": "code",
        "outputId": "fa09fe78-067c-4424-88a9-cfb1bd6871d2",
        "colab": {
          "base_uri": "https://localhost:8080/",
          "height": 122
        }
      },
      "source": [
        "from google.colab import drive\n",
        "drive.mount('drive')"
      ],
      "execution_count": 2,
      "outputs": [
        {
          "output_type": "stream",
          "text": [
            "Go to this URL in a browser: https://accounts.google.com/o/oauth2/auth?client_id=947318989803-6bn6qk8qdgf4n4g3pfee6491hc0brc4i.apps.googleusercontent.com&redirect_uri=urn%3aietf%3awg%3aoauth%3a2.0%3aoob&response_type=code&scope=email%20https%3a%2f%2fwww.googleapis.com%2fauth%2fdocs.test%20https%3a%2f%2fwww.googleapis.com%2fauth%2fdrive%20https%3a%2f%2fwww.googleapis.com%2fauth%2fdrive.photos.readonly%20https%3a%2f%2fwww.googleapis.com%2fauth%2fpeopleapi.readonly\n",
            "\n",
            "Enter your authorization code:\n",
            "··········\n",
            "Mounted at drive\n"
          ],
          "name": "stdout"
        }
      ]
    },
    {
      "cell_type": "code",
      "metadata": {
        "id": "Vuw6rIAz26DZ",
        "colab_type": "code",
        "outputId": "51a37754-8b9a-442d-8429-055584b21a26",
        "colab": {
          "base_uri": "https://localhost:8080/",
          "height": 258
        }
      },
      "source": [
        "import pandas as pd\n",
        "import io\n",
        "df = pd.read_excel(\"/content/no_removal_preprocessed_data.xlsx\", index_col = 0)\n",
        "df.head()"
      ],
      "execution_count": 4,
      "outputs": [
        {
          "output_type": "execute_result",
          "data": {
            "text/html": [
              "<div>\n",
              "<style scoped>\n",
              "    .dataframe tbody tr th:only-of-type {\n",
              "        vertical-align: middle;\n",
              "    }\n",
              "\n",
              "    .dataframe tbody tr th {\n",
              "        vertical-align: top;\n",
              "    }\n",
              "\n",
              "    .dataframe thead th {\n",
              "        text-align: right;\n",
              "    }\n",
              "</style>\n",
              "<table border=\"1\" class=\"dataframe\">\n",
              "  <thead>\n",
              "    <tr style=\"text-align: right;\">\n",
              "      <th></th>\n",
              "      <th>gender</th>\n",
              "      <th>SeniorCitizen</th>\n",
              "      <th>Partner</th>\n",
              "      <th>Dependents</th>\n",
              "      <th>tenure</th>\n",
              "      <th>PhoneService</th>\n",
              "      <th>PaperlessBilling</th>\n",
              "      <th>MonthlyCharges</th>\n",
              "      <th>TotalCharges</th>\n",
              "      <th>target</th>\n",
              "      <th>MultipleLines_No</th>\n",
              "      <th>MultipleLines_No phone service</th>\n",
              "      <th>MultipleLines_Yes</th>\n",
              "      <th>InternetService_DSL</th>\n",
              "      <th>InternetService_Fiber optic</th>\n",
              "      <th>InternetService_No</th>\n",
              "      <th>OnlineSecurity_No</th>\n",
              "      <th>OnlineSecurity_No internet service</th>\n",
              "      <th>OnlineSecurity_Yes</th>\n",
              "      <th>OnlineBackup_No</th>\n",
              "      <th>OnlineBackup_No internet service</th>\n",
              "      <th>OnlineBackup_Yes</th>\n",
              "      <th>DeviceProtection_No</th>\n",
              "      <th>DeviceProtection_No internet service</th>\n",
              "      <th>DeviceProtection_Yes</th>\n",
              "      <th>TechSupport_No</th>\n",
              "      <th>TechSupport_No internet service</th>\n",
              "      <th>TechSupport_Yes</th>\n",
              "      <th>StreamingTV_No</th>\n",
              "      <th>StreamingTV_No internet service</th>\n",
              "      <th>StreamingTV_Yes</th>\n",
              "      <th>StreamingMovies_No</th>\n",
              "      <th>StreamingMovies_No internet service</th>\n",
              "      <th>StreamingMovies_Yes</th>\n",
              "      <th>Contract_Month-to-month</th>\n",
              "      <th>Contract_One year</th>\n",
              "      <th>Contract_Two year</th>\n",
              "      <th>PaymentMethod_Bank transfer (automatic)</th>\n",
              "      <th>PaymentMethod_Credit card (automatic)</th>\n",
              "      <th>PaymentMethod_Electronic check</th>\n",
              "      <th>PaymentMethod_Mailed check</th>\n",
              "    </tr>\n",
              "  </thead>\n",
              "  <tbody>\n",
              "    <tr>\n",
              "      <th>0</th>\n",
              "      <td>0</td>\n",
              "      <td>0</td>\n",
              "      <td>1</td>\n",
              "      <td>0</td>\n",
              "      <td>1</td>\n",
              "      <td>0</td>\n",
              "      <td>1</td>\n",
              "      <td>29.85</td>\n",
              "      <td>29.85</td>\n",
              "      <td>0</td>\n",
              "      <td>0</td>\n",
              "      <td>1</td>\n",
              "      <td>0</td>\n",
              "      <td>1</td>\n",
              "      <td>0</td>\n",
              "      <td>0</td>\n",
              "      <td>1</td>\n",
              "      <td>0</td>\n",
              "      <td>0</td>\n",
              "      <td>0</td>\n",
              "      <td>0</td>\n",
              "      <td>1</td>\n",
              "      <td>1</td>\n",
              "      <td>0</td>\n",
              "      <td>0</td>\n",
              "      <td>1</td>\n",
              "      <td>0</td>\n",
              "      <td>0</td>\n",
              "      <td>1</td>\n",
              "      <td>0</td>\n",
              "      <td>0</td>\n",
              "      <td>1</td>\n",
              "      <td>0</td>\n",
              "      <td>0</td>\n",
              "      <td>1</td>\n",
              "      <td>0</td>\n",
              "      <td>0</td>\n",
              "      <td>0</td>\n",
              "      <td>0</td>\n",
              "      <td>1</td>\n",
              "      <td>0</td>\n",
              "    </tr>\n",
              "    <tr>\n",
              "      <th>1</th>\n",
              "      <td>1</td>\n",
              "      <td>0</td>\n",
              "      <td>0</td>\n",
              "      <td>0</td>\n",
              "      <td>34</td>\n",
              "      <td>1</td>\n",
              "      <td>0</td>\n",
              "      <td>56.95</td>\n",
              "      <td>1889.50</td>\n",
              "      <td>0</td>\n",
              "      <td>1</td>\n",
              "      <td>0</td>\n",
              "      <td>0</td>\n",
              "      <td>1</td>\n",
              "      <td>0</td>\n",
              "      <td>0</td>\n",
              "      <td>0</td>\n",
              "      <td>0</td>\n",
              "      <td>1</td>\n",
              "      <td>1</td>\n",
              "      <td>0</td>\n",
              "      <td>0</td>\n",
              "      <td>0</td>\n",
              "      <td>0</td>\n",
              "      <td>1</td>\n",
              "      <td>1</td>\n",
              "      <td>0</td>\n",
              "      <td>0</td>\n",
              "      <td>1</td>\n",
              "      <td>0</td>\n",
              "      <td>0</td>\n",
              "      <td>1</td>\n",
              "      <td>0</td>\n",
              "      <td>0</td>\n",
              "      <td>0</td>\n",
              "      <td>1</td>\n",
              "      <td>0</td>\n",
              "      <td>0</td>\n",
              "      <td>0</td>\n",
              "      <td>0</td>\n",
              "      <td>1</td>\n",
              "    </tr>\n",
              "    <tr>\n",
              "      <th>2</th>\n",
              "      <td>1</td>\n",
              "      <td>0</td>\n",
              "      <td>0</td>\n",
              "      <td>0</td>\n",
              "      <td>2</td>\n",
              "      <td>1</td>\n",
              "      <td>1</td>\n",
              "      <td>53.85</td>\n",
              "      <td>108.15</td>\n",
              "      <td>1</td>\n",
              "      <td>1</td>\n",
              "      <td>0</td>\n",
              "      <td>0</td>\n",
              "      <td>1</td>\n",
              "      <td>0</td>\n",
              "      <td>0</td>\n",
              "      <td>0</td>\n",
              "      <td>0</td>\n",
              "      <td>1</td>\n",
              "      <td>0</td>\n",
              "      <td>0</td>\n",
              "      <td>1</td>\n",
              "      <td>1</td>\n",
              "      <td>0</td>\n",
              "      <td>0</td>\n",
              "      <td>1</td>\n",
              "      <td>0</td>\n",
              "      <td>0</td>\n",
              "      <td>1</td>\n",
              "      <td>0</td>\n",
              "      <td>0</td>\n",
              "      <td>1</td>\n",
              "      <td>0</td>\n",
              "      <td>0</td>\n",
              "      <td>1</td>\n",
              "      <td>0</td>\n",
              "      <td>0</td>\n",
              "      <td>0</td>\n",
              "      <td>0</td>\n",
              "      <td>0</td>\n",
              "      <td>1</td>\n",
              "    </tr>\n",
              "    <tr>\n",
              "      <th>3</th>\n",
              "      <td>1</td>\n",
              "      <td>0</td>\n",
              "      <td>0</td>\n",
              "      <td>0</td>\n",
              "      <td>45</td>\n",
              "      <td>0</td>\n",
              "      <td>0</td>\n",
              "      <td>42.30</td>\n",
              "      <td>1840.75</td>\n",
              "      <td>0</td>\n",
              "      <td>0</td>\n",
              "      <td>1</td>\n",
              "      <td>0</td>\n",
              "      <td>1</td>\n",
              "      <td>0</td>\n",
              "      <td>0</td>\n",
              "      <td>0</td>\n",
              "      <td>0</td>\n",
              "      <td>1</td>\n",
              "      <td>1</td>\n",
              "      <td>0</td>\n",
              "      <td>0</td>\n",
              "      <td>0</td>\n",
              "      <td>0</td>\n",
              "      <td>1</td>\n",
              "      <td>0</td>\n",
              "      <td>0</td>\n",
              "      <td>1</td>\n",
              "      <td>1</td>\n",
              "      <td>0</td>\n",
              "      <td>0</td>\n",
              "      <td>1</td>\n",
              "      <td>0</td>\n",
              "      <td>0</td>\n",
              "      <td>0</td>\n",
              "      <td>1</td>\n",
              "      <td>0</td>\n",
              "      <td>1</td>\n",
              "      <td>0</td>\n",
              "      <td>0</td>\n",
              "      <td>0</td>\n",
              "    </tr>\n",
              "    <tr>\n",
              "      <th>4</th>\n",
              "      <td>0</td>\n",
              "      <td>0</td>\n",
              "      <td>0</td>\n",
              "      <td>0</td>\n",
              "      <td>2</td>\n",
              "      <td>1</td>\n",
              "      <td>1</td>\n",
              "      <td>70.70</td>\n",
              "      <td>151.65</td>\n",
              "      <td>1</td>\n",
              "      <td>1</td>\n",
              "      <td>0</td>\n",
              "      <td>0</td>\n",
              "      <td>0</td>\n",
              "      <td>1</td>\n",
              "      <td>0</td>\n",
              "      <td>1</td>\n",
              "      <td>0</td>\n",
              "      <td>0</td>\n",
              "      <td>1</td>\n",
              "      <td>0</td>\n",
              "      <td>0</td>\n",
              "      <td>1</td>\n",
              "      <td>0</td>\n",
              "      <td>0</td>\n",
              "      <td>1</td>\n",
              "      <td>0</td>\n",
              "      <td>0</td>\n",
              "      <td>1</td>\n",
              "      <td>0</td>\n",
              "      <td>0</td>\n",
              "      <td>1</td>\n",
              "      <td>0</td>\n",
              "      <td>0</td>\n",
              "      <td>1</td>\n",
              "      <td>0</td>\n",
              "      <td>0</td>\n",
              "      <td>0</td>\n",
              "      <td>0</td>\n",
              "      <td>1</td>\n",
              "      <td>0</td>\n",
              "    </tr>\n",
              "  </tbody>\n",
              "</table>\n",
              "</div>"
            ],
            "text/plain": [
              "   gender  ...  PaymentMethod_Mailed check\n",
              "0       0  ...                           0\n",
              "1       1  ...                           1\n",
              "2       1  ...                           1\n",
              "3       1  ...                           0\n",
              "4       0  ...                           0\n",
              "\n",
              "[5 rows x 41 columns]"
            ]
          },
          "metadata": {
            "tags": []
          },
          "execution_count": 4
        }
      ]
    },
    {
      "cell_type": "code",
      "metadata": {
        "id": "l_VpU3jS5PYE",
        "colab_type": "code",
        "outputId": "a5addac5-8ac2-404d-e0e0-243aa355a7da",
        "colab": {
          "base_uri": "https://localhost:8080/",
          "height": 1000
        }
      },
      "source": [
        "corr = df.corr()['target'].sort_values()\n",
        "\n",
        "# Display correlations\n",
        "print('Top 10 - Positive Correlations:')\n",
        "print('-----------------------------------')\n",
        "print(corr.tail(10))\n",
        "print('\\nTop 10 - Negative Correlations:')\n",
        "print('------------------------------')\n",
        "print(corr.head(10))\n",
        "print('------------------------------')\n",
        "print(corr)"
      ],
      "execution_count": 5,
      "outputs": [
        {
          "output_type": "stream",
          "text": [
            "Top 10 - Positive Correlations:\n",
            "-----------------------------------\n",
            "PaperlessBilling                  0.191825\n",
            "MonthlyCharges                    0.193356\n",
            "DeviceProtection_No               0.252481\n",
            "OnlineBackup_No                   0.268005\n",
            "PaymentMethod_Electronic check    0.301919\n",
            "InternetService_Fiber optic       0.308020\n",
            "TechSupport_No                    0.337281\n",
            "OnlineSecurity_No                 0.342637\n",
            "Contract_Month-to-month           0.405103\n",
            "target                            1.000000\n",
            "Name: target, dtype: float64\n",
            "\n",
            "Top 10 - Negative Correlations:\n",
            "------------------------------\n",
            "tenure                                 -0.352229\n",
            "Contract_Two year                      -0.302253\n",
            "OnlineBackup_No internet service       -0.227890\n",
            "InternetService_No                     -0.227890\n",
            "DeviceProtection_No internet service   -0.227890\n",
            "TechSupport_No internet service        -0.227890\n",
            "StreamingTV_No internet service        -0.227890\n",
            "StreamingMovies_No internet service    -0.227890\n",
            "OnlineSecurity_No internet service     -0.227890\n",
            "TotalCharges                           -0.198324\n",
            "Name: target, dtype: float64\n",
            "------------------------------\n",
            "tenure                                    -0.352229\n",
            "Contract_Two year                         -0.302253\n",
            "OnlineBackup_No internet service          -0.227890\n",
            "InternetService_No                        -0.227890\n",
            "DeviceProtection_No internet service      -0.227890\n",
            "TechSupport_No internet service           -0.227890\n",
            "StreamingTV_No internet service           -0.227890\n",
            "StreamingMovies_No internet service       -0.227890\n",
            "OnlineSecurity_No internet service        -0.227890\n",
            "TotalCharges                              -0.198324\n",
            "Contract_One year                         -0.177820\n",
            "OnlineSecurity_Yes                        -0.171226\n",
            "TechSupport_Yes                           -0.164674\n",
            "Dependents                                -0.164221\n",
            "Partner                                   -0.150448\n",
            "PaymentMethod_Credit card (automatic)     -0.134302\n",
            "InternetService_DSL                       -0.124214\n",
            "PaymentMethod_Bank transfer (automatic)   -0.117937\n",
            "PaymentMethod_Mailed check                -0.091683\n",
            "OnlineBackup_Yes                          -0.082255\n",
            "DeviceProtection_Yes                      -0.066160\n",
            "MultipleLines_No                          -0.032569\n",
            "MultipleLines_No phone service            -0.011942\n",
            "gender                                    -0.008612\n",
            "PhoneService                               0.011942\n",
            "MultipleLines_Yes                          0.040102\n",
            "StreamingMovies_Yes                        0.061382\n",
            "StreamingTV_Yes                            0.063228\n",
            "StreamingTV_No                             0.128916\n",
            "StreamingMovies_No                         0.130845\n",
            "SeniorCitizen                              0.150889\n",
            "PaperlessBilling                           0.191825\n",
            "MonthlyCharges                             0.193356\n",
            "DeviceProtection_No                        0.252481\n",
            "OnlineBackup_No                            0.268005\n",
            "PaymentMethod_Electronic check             0.301919\n",
            "InternetService_Fiber optic                0.308020\n",
            "TechSupport_No                             0.337281\n",
            "OnlineSecurity_No                          0.342637\n",
            "Contract_Month-to-month                    0.405103\n",
            "target                                     1.000000\n",
            "Name: target, dtype: float64\n"
          ],
          "name": "stdout"
        }
      ]
    },
    {
      "cell_type": "code",
      "metadata": {
        "id": "urE1ZGO63C-v",
        "colab_type": "code",
        "outputId": "775a7299-2357-4cfa-f274-25827166bd5e",
        "colab": {
          "base_uri": "https://localhost:8080/",
          "height": 353
        }
      },
      "source": [
        "model= CausalModel(\n",
        "        data=df,\n",
        "        treatment='Partner',\n",
        "        outcome=\"target\",\n",
        "        common_causes=['gender', 'SeniorCitizen', 'Dependents', 'tenure',\n",
        "       'PhoneService', 'PaperlessBilling', 'MonthlyCharges', 'TotalCharges',\n",
        "       'MultipleLines_No', 'MultipleLines_No phone service',\n",
        "       'MultipleLines_Yes', 'InternetService_DSL',\n",
        "       'InternetService_Fiber optic', 'InternetService_No',\n",
        "       'OnlineSecurity_No', 'OnlineSecurity_No internet service',\n",
        "       'OnlineSecurity_Yes', 'OnlineBackup_No',\n",
        "       'OnlineBackup_No internet service', 'OnlineBackup_Yes',\n",
        "       'DeviceProtection_No', 'DeviceProtection_No internet service',\n",
        "       'DeviceProtection_Yes', 'TechSupport_No',\n",
        "       'TechSupport_No internet service', 'TechSupport_Yes', 'StreamingTV_No',\n",
        "       'StreamingTV_No internet service', 'StreamingTV_Yes',\n",
        "       'StreamingMovies_No', 'StreamingMovies_No internet service',\n",
        "       'StreamingMovies_Yes', 'Contract_Month-to-month', 'Contract_One year',\n",
        "       'Contract_Two year', 'PaymentMethod_Bank transfer (automatic)',\n",
        "       'PaymentMethod_Credit card (automatic)',\n",
        "       'PaymentMethod_Electronic check', 'PaymentMethod_Mailed check'],\n",
        "        instruments=[])\n",
        "model.view_model(layout=\"dot\")"
      ],
      "execution_count": 6,
      "outputs": [
        {
          "output_type": "stream",
          "text": [
            "WARNING:dowhy.causal_model:Causal Graph not provided. DoWhy will construct a graph based on data inputs.\n",
            "INFO:dowhy.causal_graph:If this is observed data (not from a randomized experiment), there might always be missing confounders. Adding a node named \"Unobserved Confounders\" to reflect this.\n",
            "INFO:dowhy.causal_model:Model to find the causal effect of treatment ['Partner'] on outcome ['target']\n",
            "WARNING:dowhy.causal_graph:Warning: Pygraphviz cannot be loaded. Check that graphviz and pygraphviz are installed.\n",
            "INFO:dowhy.causal_graph:Using Matplotlib for plotting\n"
          ],
          "name": "stderr"
        },
        {
          "output_type": "display_data",
          "data": {
            "image/png": "[encoded data removed]",
            "text/plain": [
              "<Figure size 432x288 with 1 Axes>"
            ]
          },
          "metadata": {
            "tags": []
          }
        }
      ]
    },
    {
      "cell_type": "code",
      "metadata": {
        "id": "e91JsVZf4J-S",
        "colab_type": "code",
        "colab": {}
      },
      "source": [
        ""
      ],
      "execution_count": 0,
      "outputs": []
    },
    {
      "cell_type": "markdown",
      "metadata": {
        "id": "JNw8mI4D4jhk",
        "colab_type": "text"
      },
      "source": [
        "Setting treatment column type to bool\n"
      ]
    },
    {
      "cell_type": "code",
      "metadata": {
        "id": "D05dDayU4mrO",
        "colab_type": "code",
        "colab": {}
      },
      "source": [
        "df['Partner'] = df['Partner'].apply(bool)"
      ],
      "execution_count": 0,
      "outputs": []
    },
    {
      "cell_type": "code",
      "metadata": {
        "id": "_I4OEksI5I_0",
        "colab_type": "code",
        "outputId": "759fd383-7718-43a5-d4dc-aed3abe67fe1",
        "colab": {
          "base_uri": "https://localhost:8080/",
          "height": 258
        }
      },
      "source": [
        "df.head()"
      ],
      "execution_count": 8,
      "outputs": [
        {
          "output_type": "execute_result",
          "data": {
            "text/html": [
              "<div>\n",
              "<style scoped>\n",
              "    .dataframe tbody tr th:only-of-type {\n",
              "        vertical-align: middle;\n",
              "    }\n",
              "\n",
              "    .dataframe tbody tr th {\n",
              "        vertical-align: top;\n",
              "    }\n",
              "\n",
              "    .dataframe thead th {\n",
              "        text-align: right;\n",
              "    }\n",
              "</style>\n",
              "<table border=\"1\" class=\"dataframe\">\n",
              "  <thead>\n",
              "    <tr style=\"text-align: right;\">\n",
              "      <th></th>\n",
              "      <th>gender</th>\n",
              "      <th>SeniorCitizen</th>\n",
              "      <th>Partner</th>\n",
              "      <th>Dependents</th>\n",
              "      <th>tenure</th>\n",
              "      <th>PhoneService</th>\n",
              "      <th>PaperlessBilling</th>\n",
              "      <th>MonthlyCharges</th>\n",
              "      <th>TotalCharges</th>\n",
              "      <th>target</th>\n",
              "      <th>MultipleLines_No</th>\n",
              "      <th>MultipleLines_No phone service</th>\n",
              "      <th>MultipleLines_Yes</th>\n",
              "      <th>InternetService_DSL</th>\n",
              "      <th>InternetService_Fiber optic</th>\n",
              "      <th>InternetService_No</th>\n",
              "      <th>OnlineSecurity_No</th>\n",
              "      <th>OnlineSecurity_No internet service</th>\n",
              "      <th>OnlineSecurity_Yes</th>\n",
              "      <th>OnlineBackup_No</th>\n",
              "      <th>OnlineBackup_No internet service</th>\n",
              "      <th>OnlineBackup_Yes</th>\n",
              "      <th>DeviceProtection_No</th>\n",
              "      <th>DeviceProtection_No internet service</th>\n",
              "      <th>DeviceProtection_Yes</th>\n",
              "      <th>TechSupport_No</th>\n",
              "      <th>TechSupport_No internet service</th>\n",
              "      <th>TechSupport_Yes</th>\n",
              "      <th>StreamingTV_No</th>\n",
              "      <th>StreamingTV_No internet service</th>\n",
              "      <th>StreamingTV_Yes</th>\n",
              "      <th>StreamingMovies_No</th>\n",
              "      <th>StreamingMovies_No internet service</th>\n",
              "      <th>StreamingMovies_Yes</th>\n",
              "      <th>Contract_Month-to-month</th>\n",
              "      <th>Contract_One year</th>\n",
              "      <th>Contract_Two year</th>\n",
              "      <th>PaymentMethod_Bank transfer (automatic)</th>\n",
              "      <th>PaymentMethod_Credit card (automatic)</th>\n",
              "      <th>PaymentMethod_Electronic check</th>\n",
              "      <th>PaymentMethod_Mailed check</th>\n",
              "    </tr>\n",
              "  </thead>\n",
              "  <tbody>\n",
              "    <tr>\n",
              "      <th>0</th>\n",
              "      <td>0</td>\n",
              "      <td>0</td>\n",
              "      <td>True</td>\n",
              "      <td>0</td>\n",
              "      <td>1</td>\n",
              "      <td>0</td>\n",
              "      <td>1</td>\n",
              "      <td>29.85</td>\n",
              "      <td>29.85</td>\n",
              "      <td>0</td>\n",
              "      <td>0</td>\n",
              "      <td>1</td>\n",
              "      <td>0</td>\n",
              "      <td>1</td>\n",
              "      <td>0</td>\n",
              "      <td>0</td>\n",
              "      <td>1</td>\n",
              "      <td>0</td>\n",
              "      <td>0</td>\n",
              "      <td>0</td>\n",
              "      <td>0</td>\n",
              "      <td>1</td>\n",
              "      <td>1</td>\n",
              "      <td>0</td>\n",
              "      <td>0</td>\n",
              "      <td>1</td>\n",
              "      <td>0</td>\n",
              "      <td>0</td>\n",
              "      <td>1</td>\n",
              "      <td>0</td>\n",
              "      <td>0</td>\n",
              "      <td>1</td>\n",
              "      <td>0</td>\n",
              "      <td>0</td>\n",
              "      <td>1</td>\n",
              "      <td>0</td>\n",
              "      <td>0</td>\n",
              "      <td>0</td>\n",
              "      <td>0</td>\n",
              "      <td>1</td>\n",
              "      <td>0</td>\n",
              "    </tr>\n",
              "    <tr>\n",
              "      <th>1</th>\n",
              "      <td>1</td>\n",
              "      <td>0</td>\n",
              "      <td>False</td>\n",
              "      <td>0</td>\n",
              "      <td>34</td>\n",
              "      <td>1</td>\n",
              "      <td>0</td>\n",
              "      <td>56.95</td>\n",
              "      <td>1889.50</td>\n",
              "      <td>0</td>\n",
              "      <td>1</td>\n",
              "      <td>0</td>\n",
              "      <td>0</td>\n",
              "      <td>1</td>\n",
              "      <td>0</td>\n",
              "      <td>0</td>\n",
              "      <td>0</td>\n",
              "      <td>0</td>\n",
              "      <td>1</td>\n",
              "      <td>1</td>\n",
              "      <td>0</td>\n",
              "      <td>0</td>\n",
              "      <td>0</td>\n",
              "      <td>0</td>\n",
              "      <td>1</td>\n",
              "      <td>1</td>\n",
              "      <td>0</td>\n",
              "      <td>0</td>\n",
              "      <td>1</td>\n",
              "      <td>0</td>\n",
              "      <td>0</td>\n",
              "      <td>1</td>\n",
              "      <td>0</td>\n",
              "      <td>0</td>\n",
              "      <td>0</td>\n",
              "      <td>1</td>\n",
              "      <td>0</td>\n",
              "      <td>0</td>\n",
              "      <td>0</td>\n",
              "      <td>0</td>\n",
              "      <td>1</td>\n",
              "    </tr>\n",
              "    <tr>\n",
              "      <th>2</th>\n",
              "      <td>1</td>\n",
              "      <td>0</td>\n",
              "      <td>False</td>\n",
              "      <td>0</td>\n",
              "      <td>2</td>\n",
              "      <td>1</td>\n",
              "      <td>1</td>\n",
              "      <td>53.85</td>\n",
              "      <td>108.15</td>\n",
              "      <td>1</td>\n",
              "      <td>1</td>\n",
              "      <td>0</td>\n",
              "      <td>0</td>\n",
              "      <td>1</td>\n",
              "      <td>0</td>\n",
              "      <td>0</td>\n",
              "      <td>0</td>\n",
              "      <td>0</td>\n",
              "      <td>1</td>\n",
              "      <td>0</td>\n",
              "      <td>0</td>\n",
              "      <td>1</td>\n",
              "      <td>1</td>\n",
              "      <td>0</td>\n",
              "      <td>0</td>\n",
              "      <td>1</td>\n",
              "      <td>0</td>\n",
              "      <td>0</td>\n",
              "      <td>1</td>\n",
              "      <td>0</td>\n",
              "      <td>0</td>\n",
              "      <td>1</td>\n",
              "      <td>0</td>\n",
              "      <td>0</td>\n",
              "      <td>1</td>\n",
              "      <td>0</td>\n",
              "      <td>0</td>\n",
              "      <td>0</td>\n",
              "      <td>0</td>\n",
              "      <td>0</td>\n",
              "      <td>1</td>\n",
              "    </tr>\n",
              "    <tr>\n",
              "      <th>3</th>\n",
              "      <td>1</td>\n",
              "      <td>0</td>\n",
              "      <td>False</td>\n",
              "      <td>0</td>\n",
              "      <td>45</td>\n",
              "      <td>0</td>\n",
              "      <td>0</td>\n",
              "      <td>42.30</td>\n",
              "      <td>1840.75</td>\n",
              "      <td>0</td>\n",
              "      <td>0</td>\n",
              "      <td>1</td>\n",
              "      <td>0</td>\n",
              "      <td>1</td>\n",
              "      <td>0</td>\n",
              "      <td>0</td>\n",
              "      <td>0</td>\n",
              "      <td>0</td>\n",
              "      <td>1</td>\n",
              "      <td>1</td>\n",
              "      <td>0</td>\n",
              "      <td>0</td>\n",
              "      <td>0</td>\n",
              "      <td>0</td>\n",
              "      <td>1</td>\n",
              "      <td>0</td>\n",
              "      <td>0</td>\n",
              "      <td>1</td>\n",
              "      <td>1</td>\n",
              "      <td>0</td>\n",
              "      <td>0</td>\n",
              "      <td>1</td>\n",
              "      <td>0</td>\n",
              "      <td>0</td>\n",
              "      <td>0</td>\n",
              "      <td>1</td>\n",
              "      <td>0</td>\n",
              "      <td>1</td>\n",
              "      <td>0</td>\n",
              "      <td>0</td>\n",
              "      <td>0</td>\n",
              "    </tr>\n",
              "    <tr>\n",
              "      <th>4</th>\n",
              "      <td>0</td>\n",
              "      <td>0</td>\n",
              "      <td>False</td>\n",
              "      <td>0</td>\n",
              "      <td>2</td>\n",
              "      <td>1</td>\n",
              "      <td>1</td>\n",
              "      <td>70.70</td>\n",
              "      <td>151.65</td>\n",
              "      <td>1</td>\n",
              "      <td>1</td>\n",
              "      <td>0</td>\n",
              "      <td>0</td>\n",
              "      <td>0</td>\n",
              "      <td>1</td>\n",
              "      <td>0</td>\n",
              "      <td>1</td>\n",
              "      <td>0</td>\n",
              "      <td>0</td>\n",
              "      <td>1</td>\n",
              "      <td>0</td>\n",
              "      <td>0</td>\n",
              "      <td>1</td>\n",
              "      <td>0</td>\n",
              "      <td>0</td>\n",
              "      <td>1</td>\n",
              "      <td>0</td>\n",
              "      <td>0</td>\n",
              "      <td>1</td>\n",
              "      <td>0</td>\n",
              "      <td>0</td>\n",
              "      <td>1</td>\n",
              "      <td>0</td>\n",
              "      <td>0</td>\n",
              "      <td>1</td>\n",
              "      <td>0</td>\n",
              "      <td>0</td>\n",
              "      <td>0</td>\n",
              "      <td>0</td>\n",
              "      <td>1</td>\n",
              "      <td>0</td>\n",
              "    </tr>\n",
              "  </tbody>\n",
              "</table>\n",
              "</div>"
            ],
            "text/plain": [
              "   gender  ...  PaymentMethod_Mailed check\n",
              "0       0  ...                           0\n",
              "1       1  ...                           1\n",
              "2       1  ...                           1\n",
              "3       1  ...                           0\n",
              "4       0  ...                           0\n",
              "\n",
              "[5 rows x 41 columns]"
            ]
          },
          "metadata": {
            "tags": []
          },
          "execution_count": 8
        }
      ]
    },
    {
      "cell_type": "code",
      "metadata": {
        "id": "TcfvwU255bln",
        "colab_type": "code",
        "colab": {}
      },
      "source": [
        "y = df.target\n",
        "X = df.drop(['target'], axis = 1)"
      ],
      "execution_count": 0,
      "outputs": []
    },
    {
      "cell_type": "code",
      "metadata": {
        "id": "mMmPfRqH5h1Q",
        "colab_type": "code",
        "colab": {}
      },
      "source": [
        ""
      ],
      "execution_count": 0,
      "outputs": []
    },
    {
      "cell_type": "markdown",
      "metadata": {
        "id": "62p-gGpX50Zu",
        "colab_type": "text"
      },
      "source": [
        "View Model\n"
      ]
    },
    {
      "cell_type": "code",
      "metadata": {
        "id": "ALH2vi9d5kSZ",
        "colab_type": "code",
        "outputId": "09524035-3e53-4a7b-c86d-eddf4fc3811c",
        "colab": {
          "base_uri": "https://localhost:8080/",
          "height": 305
        }
      },
      "source": [
        "from IPython.display import Image, display\n",
        "display(Image(filename=\"causal_model.png\"))"
      ],
      "execution_count": 10,
      "outputs": [
        {
          "output_type": "display_data",
          "data": {
            "image/png": "[encoded data removed]",
            "text/plain": [
              "<IPython.core.display.Image object>"
            ]
          },
          "metadata": {
            "tags": []
          }
        }
      ]
    },
    {
      "cell_type": "markdown",
      "metadata": {
        "id": "9wTPvIOI57ls",
        "colab_type": "text"
      },
      "source": [
        "Identify effect\n"
      ]
    },
    {
      "cell_type": "code",
      "metadata": {
        "id": "Wj_TIl8i5442",
        "colab_type": "code",
        "outputId": "ff135aac-3303-457c-b242-43ba3271a3b5",
        "colab": {
          "base_uri": "https://localhost:8080/",
          "height": 1000
        }
      },
      "source": [
        "identified_estimand = model.identify_effect()\n",
        "print(identified_estimand)"
      ],
      "execution_count": 11,
      "outputs": [
        {
          "output_type": "stream",
          "text": [
            "INFO:dowhy.causal_identifier:Common causes of treatment and outcome:['PhoneService', 'Contract_One year', 'MonthlyCharges', 'TechSupport_Yes', 'OnlineSecurity_No internet service', 'OnlineSecurity_Yes', 'Dependents', 'gender', 'PaymentMethod_Electronic check', 'PaymentMethod_Credit card (automatic)', 'StreamingTV_No', 'MultipleLines_No phone service', 'PaymentMethod_Mailed check', 'SeniorCitizen', 'TechSupport_No internet service', 'DeviceProtection_No', 'StreamingTV_No internet service', 'InternetService_Fiber optic', 'PaymentMethod_Bank transfer (automatic)', 'OnlineBackup_No', 'StreamingMovies_Yes', 'U', 'TotalCharges', 'InternetService_No', 'Contract_Month-to-month', 'tenure', 'OnlineSecurity_No', 'DeviceProtection_No internet service', 'PaperlessBilling', 'OnlineBackup_Yes', 'DeviceProtection_Yes', 'TechSupport_No', 'InternetService_DSL', 'MultipleLines_No', 'StreamingTV_Yes', 'OnlineBackup_No internet service', 'Contract_Two year', 'StreamingMovies_No', 'MultipleLines_Yes', 'StreamingMovies_No internet service']\n",
            "WARNING:dowhy.causal_identifier:If this is observed data (not from a randomized experiment), there might always be missing confounders. Causal effect cannot be identified perfectly.\n"
          ],
          "name": "stderr"
        },
        {
          "output_type": "stream",
          "text": [
            "WARN: Do you want to continue by ignoring any unobserved confounders? (use proceed_when_unidentifiable=True to disable this prompt) [y/n] y\n"
          ],
          "name": "stdout"
        },
        {
          "output_type": "stream",
          "text": [
            "INFO:dowhy.causal_identifier:Instrumental variables for treatment and outcome:[]\n"
          ],
          "name": "stderr"
        },
        {
          "output_type": "stream",
          "text": [
            "Estimand type: nonparametric-ate\n",
            "### Estimand : 1\n",
            "Estimand name: backdoor\n",
            "Estimand expression:\n",
            "    d                                                                         \n",
            "──────────(Expectation(target|PhoneService,Contract_One year,MonthlyCharges,Te\n",
            "d[Partner]                                                                    \n",
            "\n",
            "                                                                              \n",
            "chSupport_Yes,OnlineSecurity_No internet service,OnlineSecurity_Yes,Dependents\n",
            "                                                                              \n",
            "\n",
            "                                                                              \n",
            ",gender,PaymentMethod_Electronic check,PaymentMethod_Credit card (automatic),S\n",
            "                                                                              \n",
            "\n",
            "                                                                              \n",
            "treamingTV_No,MultipleLines_No phone service,PaymentMethod_Mailed check,Senior\n",
            "                                                                              \n",
            "\n",
            "                                                                              \n",
            "Citizen,TechSupport_No internet service,DeviceProtection_No,StreamingTV_No int\n",
            "                                                                              \n",
            "\n",
            "                                                                              \n",
            "ernet service,InternetService_Fiber optic,PaymentMethod_Bank transfer (automat\n",
            "                                                                              \n",
            "\n",
            "                                                                              \n",
            "ic),OnlineBackup_No,StreamingMovies_Yes,TotalCharges,InternetService_No,Contra\n",
            "                                                                              \n",
            "\n",
            "                                                                              \n",
            "ct_Month-to-month,tenure,OnlineSecurity_No,DeviceProtection_No internet servic\n",
            "                                                                              \n",
            "\n",
            "                                                                              \n",
            "e,PaperlessBilling,OnlineBackup_Yes,DeviceProtection_Yes,TechSupport_No,Intern\n",
            "                                                                              \n",
            "\n",
            "                                                                              \n",
            "etService_DSL,MultipleLines_No,StreamingTV_Yes,OnlineBackup_No internet servic\n",
            "                                                                              \n",
            "\n",
            "                                                                              \n",
            "e,Contract_Two year,StreamingMovies_No,MultipleLines_Yes,StreamingMovies_No in\n",
            "                                                                              \n",
            "\n",
            "                \n",
            "ternet service))\n",
            "                \n",
            "Estimand assumption 1, Unconfoundedness: If U→{Partner} and U→target then P(target|Partner,PhoneService,Contract_One year,MonthlyCharges,TechSupport_Yes,OnlineSecurity_No internet service,OnlineSecurity_Yes,Dependents,gender,PaymentMethod_Electronic check,PaymentMethod_Credit card (automatic),StreamingTV_No,MultipleLines_No phone service,PaymentMethod_Mailed check,SeniorCitizen,TechSupport_No internet service,DeviceProtection_No,StreamingTV_No internet service,InternetService_Fiber optic,PaymentMethod_Bank transfer (automatic),OnlineBackup_No,StreamingMovies_Yes,TotalCharges,InternetService_No,Contract_Month-to-month,tenure,OnlineSecurity_No,DeviceProtection_No internet service,PaperlessBilling,OnlineBackup_Yes,DeviceProtection_Yes,TechSupport_No,InternetService_DSL,MultipleLines_No,StreamingTV_Yes,OnlineBackup_No internet service,Contract_Two year,StreamingMovies_No,MultipleLines_Yes,StreamingMovies_No internet service,U) = P(target|Partner,PhoneService,Contract_One year,MonthlyCharges,TechSupport_Yes,OnlineSecurity_No internet service,OnlineSecurity_Yes,Dependents,gender,PaymentMethod_Electronic check,PaymentMethod_Credit card (automatic),StreamingTV_No,MultipleLines_No phone service,PaymentMethod_Mailed check,SeniorCitizen,TechSupport_No internet service,DeviceProtection_No,StreamingTV_No internet service,InternetService_Fiber optic,PaymentMethod_Bank transfer (automatic),OnlineBackup_No,StreamingMovies_Yes,TotalCharges,InternetService_No,Contract_Month-to-month,tenure,OnlineSecurity_No,DeviceProtection_No internet service,PaperlessBilling,OnlineBackup_Yes,DeviceProtection_Yes,TechSupport_No,InternetService_DSL,MultipleLines_No,StreamingTV_Yes,OnlineBackup_No internet service,Contract_Two year,StreamingMovies_No,MultipleLines_Yes,StreamingMovies_No internet service)\n",
            "### Estimand : 2\n",
            "Estimand name: iv\n",
            "No such variable found!\n",
            "\n"
          ],
          "name": "stdout"
        }
      ]
    },
    {
      "cell_type": "code",
      "metadata": {
        "id": "QzyRitZf597F",
        "colab_type": "code",
        "outputId": "255c12f9-9b28-463d-8f96-6c142b22fa42",
        "colab": {
          "base_uri": "https://localhost:8080/",
          "height": 1000
        }
      },
      "source": [
        "identified_estimand = model.identify_effect(proceed_when_unidentifiable=True)\n",
        "print(identified_estimand)"
      ],
      "execution_count": 12,
      "outputs": [
        {
          "output_type": "stream",
          "text": [
            "INFO:dowhy.causal_identifier:Common causes of treatment and outcome:['PhoneService', 'Contract_One year', 'MonthlyCharges', 'TechSupport_Yes', 'OnlineSecurity_No internet service', 'OnlineSecurity_Yes', 'Dependents', 'gender', 'PaymentMethod_Electronic check', 'PaymentMethod_Credit card (automatic)', 'StreamingTV_No', 'MultipleLines_No phone service', 'PaymentMethod_Mailed check', 'SeniorCitizen', 'TechSupport_No internet service', 'DeviceProtection_No', 'StreamingTV_No internet service', 'InternetService_Fiber optic', 'PaymentMethod_Bank transfer (automatic)', 'OnlineBackup_No', 'StreamingMovies_Yes', 'U', 'TotalCharges', 'InternetService_No', 'Contract_Month-to-month', 'tenure', 'OnlineSecurity_No', 'DeviceProtection_No internet service', 'PaperlessBilling', 'OnlineBackup_Yes', 'DeviceProtection_Yes', 'TechSupport_No', 'InternetService_DSL', 'MultipleLines_No', 'StreamingTV_Yes', 'OnlineBackup_No internet service', 'Contract_Two year', 'StreamingMovies_No', 'MultipleLines_Yes', 'StreamingMovies_No internet service']\n",
            "WARNING:dowhy.causal_identifier:If this is observed data (not from a randomized experiment), there might always be missing confounders. Causal effect cannot be identified perfectly.\n",
            "INFO:dowhy.causal_identifier:Continuing by ignoring these unobserved confounders because proceed_when_unidentifiable flag is True.\n",
            "INFO:dowhy.causal_identifier:Instrumental variables for treatment and outcome:[]\n"
          ],
          "name": "stderr"
        },
        {
          "output_type": "stream",
          "text": [
            "Estimand type: nonparametric-ate\n",
            "### Estimand : 1\n",
            "Estimand name: backdoor\n",
            "Estimand expression:\n",
            "    d                                                                         \n",
            "──────────(Expectation(target|PhoneService,Contract_One year,MonthlyCharges,Te\n",
            "d[Partner]                                                                    \n",
            "\n",
            "                                                                              \n",
            "chSupport_Yes,OnlineSecurity_No internet service,OnlineSecurity_Yes,Dependents\n",
            "                                                                              \n",
            "\n",
            "                                                                              \n",
            ",gender,PaymentMethod_Electronic check,PaymentMethod_Credit card (automatic),S\n",
            "                                                                              \n",
            "\n",
            "                                                                              \n",
            "treamingTV_No,MultipleLines_No phone service,PaymentMethod_Mailed check,Senior\n",
            "                                                                              \n",
            "\n",
            "                                                                              \n",
            "Citizen,TechSupport_No internet service,DeviceProtection_No,StreamingTV_No int\n",
            "                                                                              \n",
            "\n",
            "                                                                              \n",
            "ernet service,InternetService_Fiber optic,PaymentMethod_Bank transfer (automat\n",
            "                                                                              \n",
            "\n",
            "                                                                              \n",
            "ic),OnlineBackup_No,StreamingMovies_Yes,TotalCharges,InternetService_No,Contra\n",
            "                                                                              \n",
            "\n",
            "                                                                              \n",
            "ct_Month-to-month,tenure,OnlineSecurity_No,DeviceProtection_No internet servic\n",
            "                                                                              \n",
            "\n",
            "                                                                              \n",
            "e,PaperlessBilling,OnlineBackup_Yes,DeviceProtection_Yes,TechSupport_No,Intern\n",
            "                                                                              \n",
            "\n",
            "                                                                              \n",
            "etService_DSL,MultipleLines_No,StreamingTV_Yes,OnlineBackup_No internet servic\n",
            "                                                                              \n",
            "\n",
            "                                                                              \n",
            "e,Contract_Two year,StreamingMovies_No,MultipleLines_Yes,StreamingMovies_No in\n",
            "                                                                              \n",
            "\n",
            "                \n",
            "ternet service))\n",
            "                \n",
            "Estimand assumption 1, Unconfoundedness: If U→{Partner} and U→target then P(target|Partner,PhoneService,Contract_One year,MonthlyCharges,TechSupport_Yes,OnlineSecurity_No internet service,OnlineSecurity_Yes,Dependents,gender,PaymentMethod_Electronic check,PaymentMethod_Credit card (automatic),StreamingTV_No,MultipleLines_No phone service,PaymentMethod_Mailed check,SeniorCitizen,TechSupport_No internet service,DeviceProtection_No,StreamingTV_No internet service,InternetService_Fiber optic,PaymentMethod_Bank transfer (automatic),OnlineBackup_No,StreamingMovies_Yes,TotalCharges,InternetService_No,Contract_Month-to-month,tenure,OnlineSecurity_No,DeviceProtection_No internet service,PaperlessBilling,OnlineBackup_Yes,DeviceProtection_Yes,TechSupport_No,InternetService_DSL,MultipleLines_No,StreamingTV_Yes,OnlineBackup_No internet service,Contract_Two year,StreamingMovies_No,MultipleLines_Yes,StreamingMovies_No internet service,U) = P(target|Partner,PhoneService,Contract_One year,MonthlyCharges,TechSupport_Yes,OnlineSecurity_No internet service,OnlineSecurity_Yes,Dependents,gender,PaymentMethod_Electronic check,PaymentMethod_Credit card (automatic),StreamingTV_No,MultipleLines_No phone service,PaymentMethod_Mailed check,SeniorCitizen,TechSupport_No internet service,DeviceProtection_No,StreamingTV_No internet service,InternetService_Fiber optic,PaymentMethod_Bank transfer (automatic),OnlineBackup_No,StreamingMovies_Yes,TotalCharges,InternetService_No,Contract_Month-to-month,tenure,OnlineSecurity_No,DeviceProtection_No internet service,PaperlessBilling,OnlineBackup_Yes,DeviceProtection_Yes,TechSupport_No,InternetService_DSL,MultipleLines_No,StreamingTV_Yes,OnlineBackup_No internet service,Contract_Two year,StreamingMovies_No,MultipleLines_Yes,StreamingMovies_No internet service)\n",
            "### Estimand : 2\n",
            "Estimand name: iv\n",
            "No such variable found!\n",
            "\n"
          ],
          "name": "stdout"
        }
      ]
    },
    {
      "cell_type": "code",
      "metadata": {
        "id": "ftN_Zefr6jQv",
        "colab_type": "code",
        "outputId": "0acde10c-a6ec-462e-d8d6-1d3439323644",
        "colab": {
          "base_uri": "https://localhost:8080/",
          "height": 1000
        }
      },
      "source": [
        "causal_estimate = model.estimate_effect(identified_estimand,method_name=\"backdoor.propensity_score_stratification\")\n",
        "print(causal_estimate)\n",
        "print(\"Causal Estimate is \" + str(causal_estimate.value))"
      ],
      "execution_count": 13,
      "outputs": [
        {
          "output_type": "stream",
          "text": [
            "INFO:dowhy.causal_estimator:INFO: Using Propensity Score Stratification Estimator\n",
            "INFO:dowhy.causal_estimator:b: target~Partner+PhoneService+Contract_One year+MonthlyCharges+TechSupport_Yes+OnlineSecurity_No internet service+OnlineSecurity_Yes+Dependents+gender+PaymentMethod_Electronic check+PaymentMethod_Credit card (automatic)+StreamingTV_No+MultipleLines_No phone service+PaymentMethod_Mailed check+SeniorCitizen+TechSupport_No internet service+DeviceProtection_No+StreamingTV_No internet service+InternetService_Fiber optic+PaymentMethod_Bank transfer (automatic)+OnlineBackup_No+StreamingMovies_Yes+TotalCharges+InternetService_No+Contract_Month-to-month+tenure+OnlineSecurity_No+DeviceProtection_No internet service+PaperlessBilling+OnlineBackup_Yes+DeviceProtection_Yes+TechSupport_No+InternetService_DSL+MultipleLines_No+StreamingTV_Yes+OnlineBackup_No internet service+Contract_Two year+StreamingMovies_No+MultipleLines_Yes+StreamingMovies_No internet service\n",
            "/usr/local/lib/python3.6/dist-packages/sklearn/utils/validation.py:760: DataConversionWarning: A column-vector y was passed when a 1d array was expected. Please change the shape of y to (n_samples, ), for example using ravel().\n",
            "  y = column_or_1d(y, warn=True)\n",
            "INFO:numexpr.utils:NumExpr defaulting to 2 threads.\n"
          ],
          "name": "stderr"
        },
        {
          "output_type": "stream",
          "text": [
            "*** Causal Estimate ***\n",
            "\n",
            "## Target estimand\n",
            "Estimand type: nonparametric-ate\n",
            "### Estimand : 1\n",
            "Estimand name: backdoor\n",
            "Estimand expression:\n",
            "    d                                                                         \n",
            "──────────(Expectation(target|PhoneService,Contract_One year,MonthlyCharges,Te\n",
            "d[Partner]                                                                    \n",
            "\n",
            "                                                                              \n",
            "chSupport_Yes,OnlineSecurity_No internet service,OnlineSecurity_Yes,Dependents\n",
            "                                                                              \n",
            "\n",
            "                                                                              \n",
            ",gender,PaymentMethod_Electronic check,PaymentMethod_Credit card (automatic),S\n",
            "                                                                              \n",
            "\n",
            "                                                                              \n",
            "treamingTV_No,MultipleLines_No phone service,PaymentMethod_Mailed check,Senior\n",
            "                                                                              \n",
            "\n",
            "                                                                              \n",
            "Citizen,TechSupport_No internet service,DeviceProtection_No,StreamingTV_No int\n",
            "                                                                              \n",
            "\n",
            "                                                                              \n",
            "ernet service,InternetService_Fiber optic,PaymentMethod_Bank transfer (automat\n",
            "                                                                              \n",
            "\n",
            "                                                                              \n",
            "ic),OnlineBackup_No,StreamingMovies_Yes,TotalCharges,InternetService_No,Contra\n",
            "                                                                              \n",
            "\n",
            "                                                                              \n",
            "ct_Month-to-month,tenure,OnlineSecurity_No,DeviceProtection_No internet servic\n",
            "                                                                              \n",
            "\n",
            "                                                                              \n",
            "e,PaperlessBilling,OnlineBackup_Yes,DeviceProtection_Yes,TechSupport_No,Intern\n",
            "                                                                              \n",
            "\n",
            "                                                                              \n",
            "etService_DSL,MultipleLines_No,StreamingTV_Yes,OnlineBackup_No internet servic\n",
            "                                                                              \n",
            "\n",
            "                                                                              \n",
            "e,Contract_Two year,StreamingMovies_No,MultipleLines_Yes,StreamingMovies_No in\n",
            "                                                                              \n",
            "\n",
            "                \n",
            "ternet service))\n",
            "                \n",
            "Estimand assumption 1, Unconfoundedness: If U→{Partner} and U→target then P(target|Partner,PhoneService,Contract_One year,MonthlyCharges,TechSupport_Yes,OnlineSecurity_No internet service,OnlineSecurity_Yes,Dependents,gender,PaymentMethod_Electronic check,PaymentMethod_Credit card (automatic),StreamingTV_No,MultipleLines_No phone service,PaymentMethod_Mailed check,SeniorCitizen,TechSupport_No internet service,DeviceProtection_No,StreamingTV_No internet service,InternetService_Fiber optic,PaymentMethod_Bank transfer (automatic),OnlineBackup_No,StreamingMovies_Yes,TotalCharges,InternetService_No,Contract_Month-to-month,tenure,OnlineSecurity_No,DeviceProtection_No internet service,PaperlessBilling,OnlineBackup_Yes,DeviceProtection_Yes,TechSupport_No,InternetService_DSL,MultipleLines_No,StreamingTV_Yes,OnlineBackup_No internet service,Contract_Two year,StreamingMovies_No,MultipleLines_Yes,StreamingMovies_No internet service,U) = P(target|Partner,PhoneService,Contract_One year,MonthlyCharges,TechSupport_Yes,OnlineSecurity_No internet service,OnlineSecurity_Yes,Dependents,gender,PaymentMethod_Electronic check,PaymentMethod_Credit card (automatic),StreamingTV_No,MultipleLines_No phone service,PaymentMethod_Mailed check,SeniorCitizen,TechSupport_No internet service,DeviceProtection_No,StreamingTV_No internet service,InternetService_Fiber optic,PaymentMethod_Bank transfer (automatic),OnlineBackup_No,StreamingMovies_Yes,TotalCharges,InternetService_No,Contract_Month-to-month,tenure,OnlineSecurity_No,DeviceProtection_No internet service,PaperlessBilling,OnlineBackup_Yes,DeviceProtection_Yes,TechSupport_No,InternetService_DSL,MultipleLines_No,StreamingTV_Yes,OnlineBackup_No internet service,Contract_Two year,StreamingMovies_No,MultipleLines_Yes,StreamingMovies_No internet service)\n",
            "### Estimand : 2\n",
            "Estimand name: iv\n",
            "No such variable found!\n",
            "\n",
            "## Realized estimand\n",
            "b: target~Partner+PhoneService+Contract_One year+MonthlyCharges+TechSupport_Yes+OnlineSecurity_No internet service+OnlineSecurity_Yes+Dependents+gender+PaymentMethod_Electronic check+PaymentMethod_Credit card (automatic)+StreamingTV_No+MultipleLines_No phone service+PaymentMethod_Mailed check+SeniorCitizen+TechSupport_No internet service+DeviceProtection_No+StreamingTV_No internet service+InternetService_Fiber optic+PaymentMethod_Bank transfer (automatic)+OnlineBackup_No+StreamingMovies_Yes+TotalCharges+InternetService_No+Contract_Month-to-month+tenure+OnlineSecurity_No+DeviceProtection_No internet service+PaperlessBilling+OnlineBackup_Yes+DeviceProtection_Yes+TechSupport_No+InternetService_DSL+MultipleLines_No+StreamingTV_Yes+OnlineBackup_No internet service+Contract_Two year+StreamingMovies_No+MultipleLines_Yes+StreamingMovies_No internet service\n",
            "## Estimate\n",
            "Value: -0.006961274103526336\n",
            "\n",
            "Causal Estimate is -0.006961274103526336\n"
          ],
          "name": "stdout"
        }
      ]
    },
    {
      "cell_type": "code",
      "metadata": {
        "id": "g5hxiWgC6o5C",
        "colab_type": "code",
        "outputId": "f90f06b7-1e4e-4205-a48c-8ed0d936b798",
        "colab": {
          "base_uri": "https://localhost:8080/",
          "height": 1000
        }
      },
      "source": [
        "# Causal effect on the control group (ATC)\n",
        "causal_estimate_att = model.estimate_effect(identified_estimand,\n",
        "        method_name=\"backdoor.propensity_score_stratification\",\n",
        "        target_units = \"atc\")\n",
        "print(causal_estimate_att)\n",
        "print(\"Causal Estimate is \" + str(causal_estimate_att.value))"
      ],
      "execution_count": 14,
      "outputs": [
        {
          "output_type": "stream",
          "text": [
            "INFO:dowhy.causal_estimator:INFO: Using Propensity Score Stratification Estimator\n",
            "INFO:dowhy.causal_estimator:b: target~Partner+PhoneService+Contract_One year+MonthlyCharges+TechSupport_Yes+OnlineSecurity_No internet service+OnlineSecurity_Yes+Dependents+gender+PaymentMethod_Electronic check+PaymentMethod_Credit card (automatic)+StreamingTV_No+MultipleLines_No phone service+PaymentMethod_Mailed check+SeniorCitizen+TechSupport_No internet service+DeviceProtection_No+StreamingTV_No internet service+InternetService_Fiber optic+PaymentMethod_Bank transfer (automatic)+OnlineBackup_No+StreamingMovies_Yes+TotalCharges+InternetService_No+Contract_Month-to-month+tenure+OnlineSecurity_No+DeviceProtection_No internet service+PaperlessBilling+OnlineBackup_Yes+DeviceProtection_Yes+TechSupport_No+InternetService_DSL+MultipleLines_No+StreamingTV_Yes+OnlineBackup_No internet service+Contract_Two year+StreamingMovies_No+MultipleLines_Yes+StreamingMovies_No internet service\n",
            "/usr/local/lib/python3.6/dist-packages/sklearn/utils/validation.py:760: DataConversionWarning: A column-vector y was passed when a 1d array was expected. Please change the shape of y to (n_samples, ), for example using ravel().\n",
            "  y = column_or_1d(y, warn=True)\n"
          ],
          "name": "stderr"
        },
        {
          "output_type": "stream",
          "text": [
            "*** Causal Estimate ***\n",
            "\n",
            "## Target estimand\n",
            "Estimand type: nonparametric-ate\n",
            "### Estimand : 1\n",
            "Estimand name: backdoor\n",
            "Estimand expression:\n",
            "    d                                                                         \n",
            "──────────(Expectation(target|PhoneService,Contract_One year,MonthlyCharges,Te\n",
            "d[Partner]                                                                    \n",
            "\n",
            "                                                                              \n",
            "chSupport_Yes,OnlineSecurity_No internet service,OnlineSecurity_Yes,Dependents\n",
            "                                                                              \n",
            "\n",
            "                                                                              \n",
            ",gender,PaymentMethod_Electronic check,PaymentMethod_Credit card (automatic),S\n",
            "                                                                              \n",
            "\n",
            "                                                                              \n",
            "treamingTV_No,MultipleLines_No phone service,PaymentMethod_Mailed check,Senior\n",
            "                                                                              \n",
            "\n",
            "                                                                              \n",
            "Citizen,TechSupport_No internet service,DeviceProtection_No,StreamingTV_No int\n",
            "                                                                              \n",
            "\n",
            "                                                                              \n",
            "ernet service,InternetService_Fiber optic,PaymentMethod_Bank transfer (automat\n",
            "                                                                              \n",
            "\n",
            "                                                                              \n",
            "ic),OnlineBackup_No,StreamingMovies_Yes,TotalCharges,InternetService_No,Contra\n",
            "                                                                              \n",
            "\n",
            "                                                                              \n",
            "ct_Month-to-month,tenure,OnlineSecurity_No,DeviceProtection_No internet servic\n",
            "                                                                              \n",
            "\n",
            "                                                                              \n",
            "e,PaperlessBilling,OnlineBackup_Yes,DeviceProtection_Yes,TechSupport_No,Intern\n",
            "                                                                              \n",
            "\n",
            "                                                                              \n",
            "etService_DSL,MultipleLines_No,StreamingTV_Yes,OnlineBackup_No internet servic\n",
            "                                                                              \n",
            "\n",
            "                                                                              \n",
            "e,Contract_Two year,StreamingMovies_No,MultipleLines_Yes,StreamingMovies_No in\n",
            "                                                                              \n",
            "\n",
            "                \n",
            "ternet service))\n",
            "                \n",
            "Estimand assumption 1, Unconfoundedness: If U→{Partner} and U→target then P(target|Partner,PhoneService,Contract_One year,MonthlyCharges,TechSupport_Yes,OnlineSecurity_No internet service,OnlineSecurity_Yes,Dependents,gender,PaymentMethod_Electronic check,PaymentMethod_Credit card (automatic),StreamingTV_No,MultipleLines_No phone service,PaymentMethod_Mailed check,SeniorCitizen,TechSupport_No internet service,DeviceProtection_No,StreamingTV_No internet service,InternetService_Fiber optic,PaymentMethod_Bank transfer (automatic),OnlineBackup_No,StreamingMovies_Yes,TotalCharges,InternetService_No,Contract_Month-to-month,tenure,OnlineSecurity_No,DeviceProtection_No internet service,PaperlessBilling,OnlineBackup_Yes,DeviceProtection_Yes,TechSupport_No,InternetService_DSL,MultipleLines_No,StreamingTV_Yes,OnlineBackup_No internet service,Contract_Two year,StreamingMovies_No,MultipleLines_Yes,StreamingMovies_No internet service,U) = P(target|Partner,PhoneService,Contract_One year,MonthlyCharges,TechSupport_Yes,OnlineSecurity_No internet service,OnlineSecurity_Yes,Dependents,gender,PaymentMethod_Electronic check,PaymentMethod_Credit card (automatic),StreamingTV_No,MultipleLines_No phone service,PaymentMethod_Mailed check,SeniorCitizen,TechSupport_No internet service,DeviceProtection_No,StreamingTV_No internet service,InternetService_Fiber optic,PaymentMethod_Bank transfer (automatic),OnlineBackup_No,StreamingMovies_Yes,TotalCharges,InternetService_No,Contract_Month-to-month,tenure,OnlineSecurity_No,DeviceProtection_No internet service,PaperlessBilling,OnlineBackup_Yes,DeviceProtection_Yes,TechSupport_No,InternetService_DSL,MultipleLines_No,StreamingTV_Yes,OnlineBackup_No internet service,Contract_Two year,StreamingMovies_No,MultipleLines_Yes,StreamingMovies_No internet service)\n",
            "### Estimand : 2\n",
            "Estimand name: iv\n",
            "No such variable found!\n",
            "\n",
            "## Realized estimand\n",
            "b: target~Partner+PhoneService+Contract_One year+MonthlyCharges+TechSupport_Yes+OnlineSecurity_No internet service+OnlineSecurity_Yes+Dependents+gender+PaymentMethod_Electronic check+PaymentMethod_Credit card (automatic)+StreamingTV_No+MultipleLines_No phone service+PaymentMethod_Mailed check+SeniorCitizen+TechSupport_No internet service+DeviceProtection_No+StreamingTV_No internet service+InternetService_Fiber optic+PaymentMethod_Bank transfer (automatic)+OnlineBackup_No+StreamingMovies_Yes+TotalCharges+InternetService_No+Contract_Month-to-month+tenure+OnlineSecurity_No+DeviceProtection_No internet service+PaperlessBilling+OnlineBackup_Yes+DeviceProtection_Yes+TechSupport_No+InternetService_DSL+MultipleLines_No+StreamingTV_Yes+OnlineBackup_No internet service+Contract_Two year+StreamingMovies_No+MultipleLines_Yes+StreamingMovies_No internet service\n",
            "## Estimate\n",
            "Value: -0.01136178330033683\n",
            "\n",
            "Causal Estimate is -0.01136178330033683\n"
          ],
          "name": "stdout"
        }
      ]
    },
    {
      "cell_type": "code",
      "metadata": {
        "id": "B-YcOoRXBFu-",
        "colab_type": "code",
        "outputId": "a17805f1-fe1e-4a90-adb1-34aebc223002",
        "colab": {
          "base_uri": "https://localhost:8080/",
          "height": 513
        }
      },
      "source": [
        "# Identify causal effect and return target estimands\n",
        "identified_estimand = model.identify_effect()\n",
        "\n",
        "# Estimate the target estimand using a statistical method.\n",
        "estimate = model.estimate_effect(identified_estimand,\n",
        "                                 method_name=\"backdoor.propensity_score_matching\")\n",
        "\n",
        "# Refute the obtained estimate using multiple robustness checks.\n",
        "refute_results = model.refute_estimate(identified_estimand, estimate,\n",
        "                                       method_name=\"random_common_cause\")"
      ],
      "execution_count": 15,
      "outputs": [
        {
          "output_type": "stream",
          "text": [
            "INFO:dowhy.causal_identifier:Common causes of treatment and outcome:['PhoneService', 'Contract_One year', 'MonthlyCharges', 'TechSupport_Yes', 'OnlineSecurity_No internet service', 'OnlineSecurity_Yes', 'Dependents', 'gender', 'PaymentMethod_Electronic check', 'PaymentMethod_Credit card (automatic)', 'StreamingTV_No', 'MultipleLines_No phone service', 'PaymentMethod_Mailed check', 'SeniorCitizen', 'TechSupport_No internet service', 'DeviceProtection_No', 'StreamingTV_No internet service', 'InternetService_Fiber optic', 'PaymentMethod_Bank transfer (automatic)', 'OnlineBackup_No', 'StreamingMovies_Yes', 'U', 'TotalCharges', 'InternetService_No', 'Contract_Month-to-month', 'tenure', 'OnlineSecurity_No', 'DeviceProtection_No internet service', 'PaperlessBilling', 'OnlineBackup_Yes', 'DeviceProtection_Yes', 'TechSupport_No', 'InternetService_DSL', 'MultipleLines_No', 'StreamingTV_Yes', 'OnlineBackup_No internet service', 'Contract_Two year', 'StreamingMovies_No', 'MultipleLines_Yes', 'StreamingMovies_No internet service']\n",
            "WARNING:dowhy.causal_identifier:If this is observed data (not from a randomized experiment), there might always be missing confounders. Causal effect cannot be identified perfectly.\n"
          ],
          "name": "stderr"
        },
        {
          "output_type": "stream",
          "text": [
            "WARN: Do you want to continue by ignoring any unobserved confounders? (use proceed_when_unidentifiable=True to disable this prompt) [y/n] y\n"
          ],
          "name": "stdout"
        },
        {
          "output_type": "stream",
          "text": [
            "INFO:dowhy.causal_identifier:Instrumental variables for treatment and outcome:[]\n",
            "INFO:dowhy.causal_estimator:INFO: Using Propensity Score Matching Estimator\n",
            "INFO:dowhy.causal_estimator:b: target~Partner+PhoneService+Contract_One year+MonthlyCharges+TechSupport_Yes+OnlineSecurity_No internet service+OnlineSecurity_Yes+Dependents+gender+PaymentMethod_Electronic check+PaymentMethod_Credit card (automatic)+StreamingTV_No+MultipleLines_No phone service+PaymentMethod_Mailed check+SeniorCitizen+TechSupport_No internet service+DeviceProtection_No+StreamingTV_No internet service+InternetService_Fiber optic+PaymentMethod_Bank transfer (automatic)+OnlineBackup_No+StreamingMovies_Yes+TotalCharges+InternetService_No+Contract_Month-to-month+tenure+OnlineSecurity_No+DeviceProtection_No internet service+PaperlessBilling+OnlineBackup_Yes+DeviceProtection_Yes+TechSupport_No+InternetService_DSL+MultipleLines_No+StreamingTV_Yes+OnlineBackup_No internet service+Contract_Two year+StreamingMovies_No+MultipleLines_Yes+StreamingMovies_No internet service\n",
            "/usr/local/lib/python3.6/dist-packages/sklearn/utils/validation.py:760: DataConversionWarning: A column-vector y was passed when a 1d array was expected. Please change the shape of y to (n_samples, ), for example using ravel().\n",
            "  y = column_or_1d(y, warn=True)\n",
            "/usr/local/lib/python3.6/dist-packages/dowhy/causal_estimators/propensity_score_matching_estimator.py:62: FutureWarning: `item` has been deprecated and will be removed in a future version\n",
            "  control_outcome = control.iloc[indices[i]][self._outcome_name].item()\n",
            "/usr/local/lib/python3.6/dist-packages/dowhy/causal_estimators/propensity_score_matching_estimator.py:77: FutureWarning: `item` has been deprecated and will be removed in a future version\n",
            "  treated_outcome = treated.iloc[indices[i]][self._outcome_name].item()\n",
            "INFO:dowhy.causal_estimator:INFO: Using Propensity Score Matching Estimator\n",
            "INFO:dowhy.causal_estimator:b: target~Partner+PhoneService+Contract_One year+MonthlyCharges+TechSupport_Yes+OnlineSecurity_No internet service+OnlineSecurity_Yes+Dependents+gender+PaymentMethod_Electronic check+PaymentMethod_Credit card (automatic)+StreamingTV_No+MultipleLines_No phone service+PaymentMethod_Mailed check+SeniorCitizen+TechSupport_No internet service+DeviceProtection_No+StreamingTV_No internet service+InternetService_Fiber optic+PaymentMethod_Bank transfer (automatic)+OnlineBackup_No+StreamingMovies_Yes+TotalCharges+InternetService_No+Contract_Month-to-month+tenure+OnlineSecurity_No+DeviceProtection_No internet service+PaperlessBilling+OnlineBackup_Yes+DeviceProtection_Yes+TechSupport_No+InternetService_DSL+MultipleLines_No+StreamingTV_Yes+OnlineBackup_No internet service+Contract_Two year+StreamingMovies_No+MultipleLines_Yes+StreamingMovies_No internet service+w_random\n",
            "/usr/local/lib/python3.6/dist-packages/sklearn/utils/validation.py:760: DataConversionWarning: A column-vector y was passed when a 1d array was expected. Please change the shape of y to (n_samples, ), for example using ravel().\n",
            "  y = column_or_1d(y, warn=True)\n",
            "/usr/local/lib/python3.6/dist-packages/sklearn/linear_model/_logistic.py:940: ConvergenceWarning: lbfgs failed to converge (status=1):\n",
            "STOP: TOTAL NO. of ITERATIONS REACHED LIMIT.\n",
            "\n",
            "Increase the number of iterations (max_iter) or scale the data as shown in:\n",
            "    https://scikit-learn.org/stable/modules/preprocessing.html\n",
            "Please also refer to the documentation for alternative solver options:\n",
            "    https://scikit-learn.org/stable/modules/linear_model.html#logistic-regression\n",
            "  extra_warning_msg=_LOGISTIC_SOLVER_CONVERGENCE_MSG)\n",
            "/usr/local/lib/python3.6/dist-packages/dowhy/causal_estimators/propensity_score_matching_estimator.py:62: FutureWarning: `item` has been deprecated and will be removed in a future version\n",
            "  control_outcome = control.iloc[indices[i]][self._outcome_name].item()\n",
            "/usr/local/lib/python3.6/dist-packages/dowhy/causal_estimators/propensity_score_matching_estimator.py:77: FutureWarning: `item` has been deprecated and will be removed in a future version\n",
            "  treated_outcome = treated.iloc[indices[i]][self._outcome_name].item()\n"
          ],
          "name": "stderr"
        }
      ]
    },
    {
      "cell_type": "code",
      "metadata": {
        "id": "g0zDM294BKR0",
        "colab_type": "code",
        "outputId": "9b13c83c-1481-4285-8f20-6fa5bbe99834",
        "colab": {
          "base_uri": "https://localhost:8080/",
          "height": 85
        }
      },
      "source": [
        "print(refute_results)"
      ],
      "execution_count": 16,
      "outputs": [
        {
          "output_type": "stream",
          "text": [
            "Refute: Add a Random Common Cause\n",
            "Estimated effect:(0.018316058497799232,)\n",
            "New effect:(0.0011358795967627432,)\n",
            "\n"
          ],
          "name": "stdout"
        }
      ]
    },
    {
      "cell_type": "code",
      "metadata": {
        "id": "Ar3qRQNJBQen",
        "colab_type": "code",
        "outputId": "cf4b2d63-037b-4313-e9e3-5e88606297fa",
        "colab": {
          "base_uri": "https://localhost:8080/",
          "height": 1000
        }
      },
      "source": [
        "print(estimate)"
      ],
      "execution_count": 17,
      "outputs": [
        {
          "output_type": "stream",
          "text": [
            "*** Causal Estimate ***\n",
            "\n",
            "## Target estimand\n",
            "Estimand type: nonparametric-ate\n",
            "### Estimand : 1\n",
            "Estimand name: backdoor\n",
            "Estimand expression:\n",
            "    d                                                                         \n",
            "──────────(Expectation(target|PhoneService,Contract_One year,MonthlyCharges,Te\n",
            "d[Partner]                                                                    \n",
            "\n",
            "                                                                              \n",
            "chSupport_Yes,OnlineSecurity_No internet service,OnlineSecurity_Yes,Dependents\n",
            "                                                                              \n",
            "\n",
            "                                                                              \n",
            ",gender,PaymentMethod_Electronic check,PaymentMethod_Credit card (automatic),S\n",
            "                                                                              \n",
            "\n",
            "                                                                              \n",
            "treamingTV_No,MultipleLines_No phone service,PaymentMethod_Mailed check,Senior\n",
            "                                                                              \n",
            "\n",
            "                                                                              \n",
            "Citizen,TechSupport_No internet service,DeviceProtection_No,StreamingTV_No int\n",
            "                                                                              \n",
            "\n",
            "                                                                              \n",
            "ernet service,InternetService_Fiber optic,PaymentMethod_Bank transfer (automat\n",
            "                                                                              \n",
            "\n",
            "                                                                              \n",
            "ic),OnlineBackup_No,StreamingMovies_Yes,TotalCharges,InternetService_No,Contra\n",
            "                                                                              \n",
            "\n",
            "                                                                              \n",
            "ct_Month-to-month,tenure,OnlineSecurity_No,DeviceProtection_No internet servic\n",
            "                                                                              \n",
            "\n",
            "                                                                              \n",
            "e,PaperlessBilling,OnlineBackup_Yes,DeviceProtection_Yes,TechSupport_No,Intern\n",
            "                                                                              \n",
            "\n",
            "                                                                              \n",
            "etService_DSL,MultipleLines_No,StreamingTV_Yes,OnlineBackup_No internet servic\n",
            "                                                                              \n",
            "\n",
            "                                                                              \n",
            "e,Contract_Two year,StreamingMovies_No,MultipleLines_Yes,StreamingMovies_No in\n",
            "                                                                              \n",
            "\n",
            "                \n",
            "ternet service))\n",
            "                \n",
            "Estimand assumption 1, Unconfoundedness: If U→{Partner} and U→target then P(target|Partner,PhoneService,Contract_One year,MonthlyCharges,TechSupport_Yes,OnlineSecurity_No internet service,OnlineSecurity_Yes,Dependents,gender,PaymentMethod_Electronic check,PaymentMethod_Credit card (automatic),StreamingTV_No,MultipleLines_No phone service,PaymentMethod_Mailed check,SeniorCitizen,TechSupport_No internet service,DeviceProtection_No,StreamingTV_No internet service,InternetService_Fiber optic,PaymentMethod_Bank transfer (automatic),OnlineBackup_No,StreamingMovies_Yes,TotalCharges,InternetService_No,Contract_Month-to-month,tenure,OnlineSecurity_No,DeviceProtection_No internet service,PaperlessBilling,OnlineBackup_Yes,DeviceProtection_Yes,TechSupport_No,InternetService_DSL,MultipleLines_No,StreamingTV_Yes,OnlineBackup_No internet service,Contract_Two year,StreamingMovies_No,MultipleLines_Yes,StreamingMovies_No internet service,U) = P(target|Partner,PhoneService,Contract_One year,MonthlyCharges,TechSupport_Yes,OnlineSecurity_No internet service,OnlineSecurity_Yes,Dependents,gender,PaymentMethod_Electronic check,PaymentMethod_Credit card (automatic),StreamingTV_No,MultipleLines_No phone service,PaymentMethod_Mailed check,SeniorCitizen,TechSupport_No internet service,DeviceProtection_No,StreamingTV_No internet service,InternetService_Fiber optic,PaymentMethod_Bank transfer (automatic),OnlineBackup_No,StreamingMovies_Yes,TotalCharges,InternetService_No,Contract_Month-to-month,tenure,OnlineSecurity_No,DeviceProtection_No internet service,PaperlessBilling,OnlineBackup_Yes,DeviceProtection_Yes,TechSupport_No,InternetService_DSL,MultipleLines_No,StreamingTV_Yes,OnlineBackup_No internet service,Contract_Two year,StreamingMovies_No,MultipleLines_Yes,StreamingMovies_No internet service)\n",
            "### Estimand : 2\n",
            "Estimand name: iv\n",
            "No such variable found!\n",
            "\n",
            "## Realized estimand\n",
            "b: target~Partner+PhoneService+Contract_One year+MonthlyCharges+TechSupport_Yes+OnlineSecurity_No internet service+OnlineSecurity_Yes+Dependents+gender+PaymentMethod_Electronic check+PaymentMethod_Credit card (automatic)+StreamingTV_No+MultipleLines_No phone service+PaymentMethod_Mailed check+SeniorCitizen+TechSupport_No internet service+DeviceProtection_No+StreamingTV_No internet service+InternetService_Fiber optic+PaymentMethod_Bank transfer (automatic)+OnlineBackup_No+StreamingMovies_Yes+TotalCharges+InternetService_No+Contract_Month-to-month+tenure+OnlineSecurity_No+DeviceProtection_No internet service+PaperlessBilling+OnlineBackup_Yes+DeviceProtection_Yes+TechSupport_No+InternetService_DSL+MultipleLines_No+StreamingTV_Yes+OnlineBackup_No internet service+Contract_Two year+StreamingMovies_No+MultipleLines_Yes+StreamingMovies_No internet service\n",
            "## Estimate\n",
            "Value: 0.018316058497799232\n",
            "\n"
          ],
          "name": "stdout"
        }
      ]
    },
    {
      "cell_type": "code",
      "metadata": {
        "id": "tTynW7deBSYf",
        "colab_type": "code",
        "outputId": "a9095473-bf5e-4039-c475-e4bef087e90d",
        "colab": {
          "base_uri": "https://localhost:8080/",
          "height": 377
        }
      },
      "source": [
        "res_subset=model.refute_estimate(identified_estimand, estimate,\n",
        "        method_name=\"data_subset_refuter\", subset_fraction=0.9, random_seed = 1)\n",
        "print(res_subset)"
      ],
      "execution_count": 18,
      "outputs": [
        {
          "output_type": "stream",
          "text": [
            "INFO:dowhy.causal_estimator:INFO: Using Propensity Score Matching Estimator\n",
            "INFO:dowhy.causal_estimator:b: target~Partner+PhoneService+Contract_One year+MonthlyCharges+TechSupport_Yes+OnlineSecurity_No internet service+OnlineSecurity_Yes+Dependents+gender+PaymentMethod_Electronic check+PaymentMethod_Credit card (automatic)+StreamingTV_No+MultipleLines_No phone service+PaymentMethod_Mailed check+SeniorCitizen+TechSupport_No internet service+DeviceProtection_No+StreamingTV_No internet service+InternetService_Fiber optic+PaymentMethod_Bank transfer (automatic)+OnlineBackup_No+StreamingMovies_Yes+TotalCharges+InternetService_No+Contract_Month-to-month+tenure+OnlineSecurity_No+DeviceProtection_No internet service+PaperlessBilling+OnlineBackup_Yes+DeviceProtection_Yes+TechSupport_No+InternetService_DSL+MultipleLines_No+StreamingTV_Yes+OnlineBackup_No internet service+Contract_Two year+StreamingMovies_No+MultipleLines_Yes+StreamingMovies_No internet service\n",
            "/usr/local/lib/python3.6/dist-packages/sklearn/utils/validation.py:760: DataConversionWarning: A column-vector y was passed when a 1d array was expected. Please change the shape of y to (n_samples, ), for example using ravel().\n",
            "  y = column_or_1d(y, warn=True)\n",
            "/usr/local/lib/python3.6/dist-packages/sklearn/linear_model/_logistic.py:940: ConvergenceWarning: lbfgs failed to converge (status=1):\n",
            "STOP: TOTAL NO. of ITERATIONS REACHED LIMIT.\n",
            "\n",
            "Increase the number of iterations (max_iter) or scale the data as shown in:\n",
            "    https://scikit-learn.org/stable/modules/preprocessing.html\n",
            "Please also refer to the documentation for alternative solver options:\n",
            "    https://scikit-learn.org/stable/modules/linear_model.html#logistic-regression\n",
            "  extra_warning_msg=_LOGISTIC_SOLVER_CONVERGENCE_MSG)\n",
            "/usr/local/lib/python3.6/dist-packages/dowhy/causal_estimators/propensity_score_matching_estimator.py:62: FutureWarning: `item` has been deprecated and will be removed in a future version\n",
            "  control_outcome = control.iloc[indices[i]][self._outcome_name].item()\n",
            "/usr/local/lib/python3.6/dist-packages/dowhy/causal_estimators/propensity_score_matching_estimator.py:77: FutureWarning: `item` has been deprecated and will be removed in a future version\n",
            "  treated_outcome = treated.iloc[indices[i]][self._outcome_name].item()\n"
          ],
          "name": "stderr"
        },
        {
          "output_type": "stream",
          "text": [
            "Refute: Use a subset of data\n",
            "Estimated effect:(0.018316058497799232,)\n",
            "New effect:(-0.007256665089130778,)\n",
            "\n"
          ],
          "name": "stdout"
        }
      ]
    },
    {
      "cell_type": "code",
      "metadata": {
        "id": "lioB1C_7BUnh",
        "colab_type": "code",
        "outputId": "3888b604-c22a-4dd2-d6f7-0482310fa893",
        "colab": {
          "base_uri": "https://localhost:8080/",
          "height": 241
        }
      },
      "source": [
        "res_placebo=model.refute_estimate(identified_estimand, estimate,\n",
        "        method_name=\"placebo_treatment_refuter\", placebo_type=\"permute\")\n",
        "print(res_placebo)"
      ],
      "execution_count": 19,
      "outputs": [
        {
          "output_type": "stream",
          "text": [
            "INFO:dowhy.causal_estimator:INFO: Using Propensity Score Matching Estimator\n",
            "INFO:dowhy.causal_estimator:b: target~placebo+PhoneService+Contract_One year+MonthlyCharges+TechSupport_Yes+OnlineSecurity_No internet service+OnlineSecurity_Yes+Dependents+gender+PaymentMethod_Electronic check+PaymentMethod_Credit card (automatic)+StreamingTV_No+MultipleLines_No phone service+PaymentMethod_Mailed check+SeniorCitizen+TechSupport_No internet service+DeviceProtection_No+StreamingTV_No internet service+InternetService_Fiber optic+PaymentMethod_Bank transfer (automatic)+OnlineBackup_No+StreamingMovies_Yes+TotalCharges+InternetService_No+Contract_Month-to-month+tenure+OnlineSecurity_No+DeviceProtection_No internet service+PaperlessBilling+OnlineBackup_Yes+DeviceProtection_Yes+TechSupport_No+InternetService_DSL+MultipleLines_No+StreamingTV_Yes+OnlineBackup_No internet service+Contract_Two year+StreamingMovies_No+MultipleLines_Yes+StreamingMovies_No internet service\n",
            "/usr/local/lib/python3.6/dist-packages/sklearn/utils/validation.py:760: DataConversionWarning: A column-vector y was passed when a 1d array was expected. Please change the shape of y to (n_samples, ), for example using ravel().\n",
            "  y = column_or_1d(y, warn=True)\n",
            "/usr/local/lib/python3.6/dist-packages/dowhy/causal_estimators/propensity_score_matching_estimator.py:62: FutureWarning: `item` has been deprecated and will be removed in a future version\n",
            "  control_outcome = control.iloc[indices[i]][self._outcome_name].item()\n",
            "/usr/local/lib/python3.6/dist-packages/dowhy/causal_estimators/propensity_score_matching_estimator.py:77: FutureWarning: `item` has been deprecated and will be removed in a future version\n",
            "  treated_outcome = treated.iloc[indices[i]][self._outcome_name].item()\n"
          ],
          "name": "stderr"
        },
        {
          "output_type": "stream",
          "text": [
            "Refute: Use a Placebo Treatment\n",
            "Estimated effect:(0.018316058497799232,)\n",
            "New effect:(-0.015618344455487718,)\n",
            "\n"
          ],
          "name": "stdout"
        }
      ]
    },
    {
      "cell_type": "code",
      "metadata": {
        "id": "zHN5jiC_BXGX",
        "colab_type": "code",
        "outputId": "05b0a43a-2ded-4081-aac1-3080f3f7bca3",
        "colab": {
          "base_uri": "https://localhost:8080/",
          "height": 377
        }
      },
      "source": [
        "res_random=model.refute_estimate(identified_estimand, estimate, method_name=\"random_common_cause\")\n",
        "print(res_random)"
      ],
      "execution_count": 20,
      "outputs": [
        {
          "output_type": "stream",
          "text": [
            "INFO:dowhy.causal_estimator:INFO: Using Propensity Score Matching Estimator\n",
            "INFO:dowhy.causal_estimator:b: target~Partner+PhoneService+Contract_One year+MonthlyCharges+TechSupport_Yes+OnlineSecurity_No internet service+OnlineSecurity_Yes+Dependents+gender+PaymentMethod_Electronic check+PaymentMethod_Credit card (automatic)+StreamingTV_No+MultipleLines_No phone service+PaymentMethod_Mailed check+SeniorCitizen+TechSupport_No internet service+DeviceProtection_No+StreamingTV_No internet service+InternetService_Fiber optic+PaymentMethod_Bank transfer (automatic)+OnlineBackup_No+StreamingMovies_Yes+TotalCharges+InternetService_No+Contract_Month-to-month+tenure+OnlineSecurity_No+DeviceProtection_No internet service+PaperlessBilling+OnlineBackup_Yes+DeviceProtection_Yes+TechSupport_No+InternetService_DSL+MultipleLines_No+StreamingTV_Yes+OnlineBackup_No internet service+Contract_Two year+StreamingMovies_No+MultipleLines_Yes+StreamingMovies_No internet service+w_random\n",
            "/usr/local/lib/python3.6/dist-packages/sklearn/utils/validation.py:760: DataConversionWarning: A column-vector y was passed when a 1d array was expected. Please change the shape of y to (n_samples, ), for example using ravel().\n",
            "  y = column_or_1d(y, warn=True)\n",
            "/usr/local/lib/python3.6/dist-packages/sklearn/linear_model/_logistic.py:940: ConvergenceWarning: lbfgs failed to converge (status=1):\n",
            "STOP: TOTAL NO. of ITERATIONS REACHED LIMIT.\n",
            "\n",
            "Increase the number of iterations (max_iter) or scale the data as shown in:\n",
            "    https://scikit-learn.org/stable/modules/preprocessing.html\n",
            "Please also refer to the documentation for alternative solver options:\n",
            "    https://scikit-learn.org/stable/modules/linear_model.html#logistic-regression\n",
            "  extra_warning_msg=_LOGISTIC_SOLVER_CONVERGENCE_MSG)\n",
            "/usr/local/lib/python3.6/dist-packages/dowhy/causal_estimators/propensity_score_matching_estimator.py:62: FutureWarning: `item` has been deprecated and will be removed in a future version\n",
            "  control_outcome = control.iloc[indices[i]][self._outcome_name].item()\n",
            "/usr/local/lib/python3.6/dist-packages/dowhy/causal_estimators/propensity_score_matching_estimator.py:77: FutureWarning: `item` has been deprecated and will be removed in a future version\n",
            "  treated_outcome = treated.iloc[indices[i]][self._outcome_name].item()\n"
          ],
          "name": "stderr"
        },
        {
          "output_type": "stream",
          "text": [
            "Refute: Add a Random Common Cause\n",
            "Estimated effect:(0.018316058497799232,)\n",
            "New effect:(0.0001419849495953429,)\n",
            "\n"
          ],
          "name": "stdout"
        }
      ]
    },
    {
      "cell_type": "code",
      "metadata": {
        "id": "pJR999qhBZ3C",
        "colab_type": "code",
        "outputId": "523e4dcd-6915-44a9-8c9d-35dea2109c93",
        "colab": {
          "base_uri": "https://localhost:8080/",
          "height": 1000
        }
      },
      "source": [
        "causal_estimate_reg = model.estimate_effect(identified_estimand,\n",
        "        method_name=\"backdoor.linear_regression\",\n",
        "        test_significance=True)\n",
        "print(causal_estimate_reg)\n",
        "print(\"Causal Estimate is \" + str(causal_estimate_reg.value))"
      ],
      "execution_count": 21,
      "outputs": [
        {
          "output_type": "stream",
          "text": [
            "INFO:dowhy.causal_estimator:INFO: Using Linear Regression Estimator\n",
            "INFO:dowhy.causal_estimator:b: target~Partner+PhoneService+Contract_One year+MonthlyCharges+TechSupport_Yes+OnlineSecurity_No internet service+OnlineSecurity_Yes+Dependents+gender+PaymentMethod_Electronic check+PaymentMethod_Credit card (automatic)+StreamingTV_No+MultipleLines_No phone service+PaymentMethod_Mailed check+SeniorCitizen+TechSupport_No internet service+DeviceProtection_No+StreamingTV_No internet service+InternetService_Fiber optic+PaymentMethod_Bank transfer (automatic)+OnlineBackup_No+StreamingMovies_Yes+TotalCharges+InternetService_No+Contract_Month-to-month+tenure+OnlineSecurity_No+DeviceProtection_No internet service+PaperlessBilling+OnlineBackup_Yes+DeviceProtection_Yes+TechSupport_No+InternetService_DSL+MultipleLines_No+StreamingTV_Yes+OnlineBackup_No internet service+Contract_Two year+StreamingMovies_No+MultipleLines_Yes+StreamingMovies_No internet service\n"
          ],
          "name": "stderr"
        },
        {
          "output_type": "stream",
          "text": [
            "*** Causal Estimate ***\n",
            "\n",
            "## Target estimand\n",
            "Estimand type: nonparametric-ate\n",
            "### Estimand : 1\n",
            "Estimand name: backdoor\n",
            "Estimand expression:\n",
            "    d                                                                         \n",
            "──────────(Expectation(target|PhoneService,Contract_One year,MonthlyCharges,Te\n",
            "d[Partner]                                                                    \n",
            "\n",
            "                                                                              \n",
            "chSupport_Yes,OnlineSecurity_No internet service,OnlineSecurity_Yes,Dependents\n",
            "                                                                              \n",
            "\n",
            "                                                                              \n",
            ",gender,PaymentMethod_Electronic check,PaymentMethod_Credit card (automatic),S\n",
            "                                                                              \n",
            "\n",
            "                                                                              \n",
            "treamingTV_No,MultipleLines_No phone service,PaymentMethod_Mailed check,Senior\n",
            "                                                                              \n",
            "\n",
            "                                                                              \n",
            "Citizen,TechSupport_No internet service,DeviceProtection_No,StreamingTV_No int\n",
            "                                                                              \n",
            "\n",
            "                                                                              \n",
            "ernet service,InternetService_Fiber optic,PaymentMethod_Bank transfer (automat\n",
            "                                                                              \n",
            "\n",
            "                                                                              \n",
            "ic),OnlineBackup_No,StreamingMovies_Yes,TotalCharges,InternetService_No,Contra\n",
            "                                                                              \n",
            "\n",
            "                                                                              \n",
            "ct_Month-to-month,tenure,OnlineSecurity_No,DeviceProtection_No internet servic\n",
            "                                                                              \n",
            "\n",
            "                                                                              \n",
            "e,PaperlessBilling,OnlineBackup_Yes,DeviceProtection_Yes,TechSupport_No,Intern\n",
            "                                                                              \n",
            "\n",
            "                                                                              \n",
            "etService_DSL,MultipleLines_No,StreamingTV_Yes,OnlineBackup_No internet servic\n",
            "                                                                              \n",
            "\n",
            "                                                                              \n",
            "e,Contract_Two year,StreamingMovies_No,MultipleLines_Yes,StreamingMovies_No in\n",
            "                                                                              \n",
            "\n",
            "                \n",
            "ternet service))\n",
            "                \n",
            "Estimand assumption 1, Unconfoundedness: If U→{Partner} and U→target then P(target|Partner,PhoneService,Contract_One year,MonthlyCharges,TechSupport_Yes,OnlineSecurity_No internet service,OnlineSecurity_Yes,Dependents,gender,PaymentMethod_Electronic check,PaymentMethod_Credit card (automatic),StreamingTV_No,MultipleLines_No phone service,PaymentMethod_Mailed check,SeniorCitizen,TechSupport_No internet service,DeviceProtection_No,StreamingTV_No internet service,InternetService_Fiber optic,PaymentMethod_Bank transfer (automatic),OnlineBackup_No,StreamingMovies_Yes,TotalCharges,InternetService_No,Contract_Month-to-month,tenure,OnlineSecurity_No,DeviceProtection_No internet service,PaperlessBilling,OnlineBackup_Yes,DeviceProtection_Yes,TechSupport_No,InternetService_DSL,MultipleLines_No,StreamingTV_Yes,OnlineBackup_No internet service,Contract_Two year,StreamingMovies_No,MultipleLines_Yes,StreamingMovies_No internet service,U) = P(target|Partner,PhoneService,Contract_One year,MonthlyCharges,TechSupport_Yes,OnlineSecurity_No internet service,OnlineSecurity_Yes,Dependents,gender,PaymentMethod_Electronic check,PaymentMethod_Credit card (automatic),StreamingTV_No,MultipleLines_No phone service,PaymentMethod_Mailed check,SeniorCitizen,TechSupport_No internet service,DeviceProtection_No,StreamingTV_No internet service,InternetService_Fiber optic,PaymentMethod_Bank transfer (automatic),OnlineBackup_No,StreamingMovies_Yes,TotalCharges,InternetService_No,Contract_Month-to-month,tenure,OnlineSecurity_No,DeviceProtection_No internet service,PaperlessBilling,OnlineBackup_Yes,DeviceProtection_Yes,TechSupport_No,InternetService_DSL,MultipleLines_No,StreamingTV_Yes,OnlineBackup_No internet service,Contract_Two year,StreamingMovies_No,MultipleLines_Yes,StreamingMovies_No internet service)\n",
            "### Estimand : 2\n",
            "Estimand name: iv\n",
            "No such variable found!\n",
            "\n",
            "## Realized estimand\n",
            "b: target~Partner+PhoneService+Contract_One year+MonthlyCharges+TechSupport_Yes+OnlineSecurity_No internet service+OnlineSecurity_Yes+Dependents+gender+PaymentMethod_Electronic check+PaymentMethod_Credit card (automatic)+StreamingTV_No+MultipleLines_No phone service+PaymentMethod_Mailed check+SeniorCitizen+TechSupport_No internet service+DeviceProtection_No+StreamingTV_No internet service+InternetService_Fiber optic+PaymentMethod_Bank transfer (automatic)+OnlineBackup_No+StreamingMovies_Yes+TotalCharges+InternetService_No+Contract_Month-to-month+tenure+OnlineSecurity_No+DeviceProtection_No internet service+PaperlessBilling+OnlineBackup_Yes+DeviceProtection_Yes+TechSupport_No+InternetService_DSL+MultipleLines_No+StreamingTV_Yes+OnlineBackup_No internet service+Contract_Two year+StreamingMovies_No+MultipleLines_Yes+StreamingMovies_No internet service\n",
            "## Estimate\n",
            "Value: -0.0012199889213195259\n",
            "\n",
            "## Statistical Significance\n",
            "p-value: 0.464\n",
            "\n",
            "Causal Estimate is -0.0012199889213195259\n"
          ],
          "name": "stdout"
        }
      ]
    },
    {
      "cell_type": "markdown",
      "metadata": {
        "id": "VmoGQn5-Bs2Y",
        "colab_type": "text"
      },
      "source": [
        "## **Interpretation**"
      ]
    },
    {
      "cell_type": "markdown",
      "metadata": {
        "id": "OAUUSa8uCB7O",
        "colab_type": "text"
      },
      "source": [
        "In my model that predicts whether or not a person stops using the telecom service, my hypothesis is that if a customer is a senior resident influences whether or not customer is more likely to churn.\n",
        "\n",
        "The p-value of more than 0.001 i.e. 0.464 tells us that there is no causal relaationship between the treatment and the outcome.\n",
        "\n",
        "Moreover, the value for causal estimate does not remain robust and varies by a lot in our attempts of refuting the estimate.\n",
        "\n",
        "We conclude that there is no Causal Relationship between treatment and the outcome."
      ]
    },
    {
      "cell_type": "code",
      "metadata": {
        "id": "4HcAZJpPBchX",
        "colab_type": "code",
        "colab": {}
      },
      "source": [
        ""
      ],
      "execution_count": 0,
      "outputs": []
    }
  ]
}